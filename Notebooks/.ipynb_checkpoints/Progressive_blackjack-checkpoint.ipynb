{
 "cells": [
  {
   "cell_type": "code",
   "execution_count": 1,
   "metadata": {},
   "outputs": [],
   "source": [
    "import pandas as pd\n",
    "import numpy as np\n",
    "from random import shuffle"
   ]
  },
  {
   "cell_type": "code",
   "execution_count": 2,
   "metadata": {},
   "outputs": [],
   "source": [
    "cards = ['ace','king','queen','jack','ten','nine','eight','seven','six','five','four','three','two']\n",
    "suits = ['spades','hearts','clubs','diamonds']\n",
    "small_cards = []"
   ]
  },
  {
   "cell_type": "code",
   "execution_count": 3,
   "metadata": {},
   "outputs": [],
   "source": [
    "def establish_counting_rules(card,suits): \n",
    "    counting_rules = {}\n",
    "    for card in cards: \n",
    "        for suit in suits: \n",
    "            label = card+'_of_'+suit\n",
    "            if card in ['two','three','four','five','six']: \n",
    "                counting_rules[label] = 1\n",
    "                small_cards.append(label)\n",
    "            elif card in ['seven','eight','nine']:\n",
    "                counting_rules[label] = 0\n",
    "            else:\n",
    "                counting_rules[label] = -1    \n",
    "    return counting_rules"
   ]
  },
  {
   "cell_type": "code",
   "execution_count": 4,
   "metadata": {},
   "outputs": [],
   "source": [
    "counting_rules = establish_counting_rules(cards,suits)"
   ]
  },
  {
   "cell_type": "code",
   "execution_count": 5,
   "metadata": {},
   "outputs": [],
   "source": [
    "class blackjack_shoe:\n",
    "    def __init__(self, num_decks_remaining,running_count,counting_rules,expectation,jackpot,\\\n",
    "                 avg_rt,lower_rt,upper_rt,small_cards=small_cards):\n",
    "        self.num_decks_remaining = num_decks_remaining\n",
    "        self.running_count = running_count\n",
    "        self.counting_rules = counting_rules\n",
    "        self.shoe = []\n",
    "        self.expectation=expectation\n",
    "        self.jackpot=jackpot\n",
    "        self.avg_rt = avg_rt\n",
    "        self.lower_rt=lower_rt\n",
    "        self.upper_rt=upper_rt\n",
    "        self.small_cards=small_cards\n",
    "\n",
    "    def create_shoe(self):\n",
    "        \"\"\"\n",
    "        Parameters\n",
    "        ----------\n",
    "        num_decks : The Number of decks used to construct the shoe that will be played with. \n",
    "        This is chosen by the casino and fewer decks favors the player. \n",
    "        Returns\n",
    "        -------\n",
    "        shoe : The shuffled shoe. num_decks combined into one massive deck and shuffled. \n",
    "        \"\"\"\n",
    "        shoe = []\n",
    "        for i in range(self.num_decks_remaining): \n",
    "            unique_cards = list(self.counting_rules.keys())\n",
    "            shoe = shoe + unique_cards\n",
    "\n",
    "        self.shoe=shoe\n",
    "    \n",
    "    def establish_count(self): \n",
    "        if self.running_count > self.num_decks_remaining*5*4: \n",
    "            raise Exception(\"Not possible to achieve this count\")  \n",
    "        for i in range(self.running_count): \n",
    "            ind = i % len(self.small_cards)\n",
    "            card = self.small_cards[ind]\n",
    "            self.shoe.remove(card)   \n",
    "        shuffle(self.shoe)\n",
    "        \n",
    "    def get_shoe(self):\n",
    "        return self.shoe\n",
    "    def get_cards(self):\n",
    "        return self.shoe[0],self.shoe[1],self.shoe[2],self.shoe[3]\n",
    "    \n",
    "    def evaluate_jackpot(self): \n",
    "        dc1,dc2,mc1,mc2 = self.shoe[0],self.shoe[1],self.shoe[2],self.shoe[3]\n",
    "        if (dc1.split('_')[0] == 'ace') or (dc2.split('_')[0] == 'ace'):\n",
    "            if dc1.split('_')[2] == dc2.split('_')[2] == mc1.split('_')[2] == mc2.split('_')[2]: \n",
    "                card_group = [dc1.split('_')[0],dc2.split('_')[0],mc1.split('_')[0],mc2.split('_')[0]]\n",
    "                if sorted(card_group) == ['ace', 'jack', 'king', 'queen']: \n",
    "                    if dc1.split('_')[2] == 'diamonds': \n",
    "                        self.expectation = self.expectation+self.jackpot\n",
    "                    else: \n",
    "                        self.expectation = self.expectation + self.jackpot/10        \n",
    "        return self.expectation\n",
    "    \n",
    "    def summarize_results(self): \n",
    "        print('Average Expectation / hour is :' + str(self.expectation/self.avg_rt))\n",
    "        print('Lower limiit expectation / hour is :' + str(self.expectation/self.upper_rt))\n",
    "        print('Upper limiit expectation / hour is :' + str(self.expectation/self.lower_rt))\n",
    "        "
   ]
  },
  {
   "cell_type": "code",
   "execution_count": null,
   "metadata": {},
   "outputs": [],
   "source": []
  },
  {
   "cell_type": "code",
   "execution_count": 6,
   "metadata": {},
   "outputs": [],
   "source": [
    "# shoe = blackjack_shoe(num_decks_remaining=num_decks_remaining,running_count=running_count,\\\n",
    "#                           counting_rules=counting_rules,expectation=0,jackpot=jackpot,\\\n",
    "#                       avg_rt=avg_rt,lower_rt=lower_rt,upper_rt=upper_rt)\n",
    "# shoe.create_shoe()\n",
    "# shoe.establish_count() \n",
    "\n",
    "# shoe.get_cards()"
   ]
  },
  {
   "cell_type": "code",
   "execution_count": 7,
   "metadata": {},
   "outputs": [
    {
     "name": "stdout",
     "output_type": "stream",
     "text": [
      "Average Expectation / hour is :159.0\n",
      "Lower limiit expectation / hour is :106.0\n",
      "Upper limiit expectation / hour is :318.0\n"
     ]
    }
   ],
   "source": [
    "num_sims = 1000000\n",
    "running_count = 20\n",
    "num_decks_remaining = 1\n",
    "jackpot = 500000\n",
    "cost_to_play = 5\n",
    "expectation = 0\n",
    "win_counter = 0\n",
    "avg_rt = num_sims*60/3600 #assume 60 seconds/hand in real life. \n",
    "lower_rt = num_sims*30/3600 #assume 30 seconds/hand in real life.\n",
    "upper_rt = num_sims*90/3600 #assume 90 seconds/hand in real life.\n",
    "\n",
    "for i in range(num_sims): \n",
    "    expectation = expectation - cost_to_play\n",
    "    \n",
    "    shoe = blackjack_shoe(num_decks_remaining=num_decks_remaining,running_count=running_count,\\\n",
    "                          counting_rules=counting_rules,expectation=expectation,jackpot=jackpot,\\\n",
    "                      avg_rt=avg_rt,lower_rt=lower_rt,upper_rt=upper_rt,small_cards=small_cards)\n",
    "    shoe.create_shoe()\n",
    "    shoe.establish_count() \n",
    "    expectation=shoe.evaluate_jackpot()\n",
    "shoe.summarize_results()\n",
    "#     dc1,dc2,mc1,mc2 = shoe.get_cards()\n",
    "#     if (dc1.split('_')[0] == 'ace') or (dc2.split('_')[0] == 'ace'):\n",
    "#         if dc1.split('_')[2] == dc2.split('_')[2] == mc1.split('_')[2] == mc2.split('_')[2]: \n",
    "#             card_group = [dc1.split('_')[0],dc2.split('_')[0],mc1.split('_')[0],mc2.split('_')[0]]\n",
    "#             if sorted(card_group) == ['ace', 'jack', 'king', 'queen']: \n",
    "#                 if dc1.split('_')[2] == 'diamonds': \n",
    "#                     expectation = expectation+jackpot\n",
    "#                 else: \n",
    "#                     expectation = expectation + jackpot/10\n",
    "\n",
    "\n"
   ]
  },
  {
   "cell_type": "code",
   "execution_count": null,
   "metadata": {},
   "outputs": [],
   "source": []
  }
 ],
 "metadata": {
  "kernelspec": {
   "display_name": "Python 3",
   "language": "python",
   "name": "python3"
  },
  "language_info": {
   "codemirror_mode": {
    "name": "ipython",
    "version": 3
   },
   "file_extension": ".py",
   "mimetype": "text/x-python",
   "name": "python",
   "nbconvert_exporter": "python",
   "pygments_lexer": "ipython3",
   "version": "3.7.7"
  }
 },
 "nbformat": 4,
 "nbformat_minor": 4
}
