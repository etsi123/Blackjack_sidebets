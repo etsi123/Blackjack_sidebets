{
 "cells": [
  {
   "cell_type": "markdown",
   "metadata": {},
   "source": [
    "# Code to analyze the progressive blackjack side bet. \n",
    "## Premise of game: \n",
    "### 1. Costs $5 to play. \n",
    "### 2. Pays out if the player's hand and dealer's hand combines for a royal flush AND the dealer has blackjack. \n",
    "### 3. Royal flush of diamonds pays out the entire meter and other suits pay out 10% of it. \n",
    "Author: Evan Tsiklidis"
   ]
  },
  {
   "cell_type": "code",
   "execution_count": 1,
   "metadata": {},
   "outputs": [],
   "source": [
    "import pandas as pd\n",
    "import numpy as np\n",
    "from random import shuffle\n",
    "from blackjack_sidebet_sim import Blackjack_shoe\n",
    "import os"
   ]
  },
  {
   "cell_type": "code",
   "execution_count": 2,
   "metadata": {},
   "outputs": [],
   "source": [
    "cards = ['ace','king','queen','jack','ten','nine','eight','seven','six','five','four','three','two']\n",
    "suits = ['spades','hearts','clubs','diamonds']"
   ]
  },
  {
   "cell_type": "code",
   "execution_count": 3,
   "metadata": {},
   "outputs": [
    {
     "data": {
      "text/html": [
       "<div>\n",
       "<style scoped>\n",
       "    .dataframe tbody tr th:only-of-type {\n",
       "        vertical-align: middle;\n",
       "    }\n",
       "\n",
       "    .dataframe tbody tr th {\n",
       "        vertical-align: top;\n",
       "    }\n",
       "\n",
       "    .dataframe thead th {\n",
       "        text-align: right;\n",
       "    }\n",
       "</style>\n",
       "<table border=\"1\" class=\"dataframe\">\n",
       "  <thead>\n",
       "    <tr style=\"text-align: right;\">\n",
       "      <th></th>\n",
       "      <th>Card</th>\n",
       "      <th>Value</th>\n",
       "    </tr>\n",
       "  </thead>\n",
       "  <tbody>\n",
       "    <tr>\n",
       "      <th>0</th>\n",
       "      <td>ace_of_spades</td>\n",
       "      <td>-1</td>\n",
       "    </tr>\n",
       "    <tr>\n",
       "      <th>1</th>\n",
       "      <td>ace_of_hearts</td>\n",
       "      <td>-1</td>\n",
       "    </tr>\n",
       "    <tr>\n",
       "      <th>2</th>\n",
       "      <td>ace_of_clubs</td>\n",
       "      <td>-1</td>\n",
       "    </tr>\n",
       "    <tr>\n",
       "      <th>3</th>\n",
       "      <td>ace_of_diamonds</td>\n",
       "      <td>-1</td>\n",
       "    </tr>\n",
       "    <tr>\n",
       "      <th>4</th>\n",
       "      <td>king_of_spades</td>\n",
       "      <td>-1</td>\n",
       "    </tr>\n",
       "  </tbody>\n",
       "</table>\n",
       "</div>"
      ],
      "text/plain": [
       "              Card  Value\n",
       "0    ace_of_spades     -1\n",
       "1    ace_of_hearts     -1\n",
       "2     ace_of_clubs     -1\n",
       "3  ace_of_diamonds     -1\n",
       "4   king_of_spades     -1"
      ]
     },
     "execution_count": 3,
     "metadata": {},
     "output_type": "execute_result"
    }
   ],
   "source": [
    "counting_df = pd.read_csv(os.getcwd()+'/counting_systems/high_low_blackjack.csv').drop(['Unnamed: 0'],axis=1)\n",
    "counting_df.head()"
   ]
  },
  {
   "cell_type": "code",
   "execution_count": 4,
   "metadata": {},
   "outputs": [],
   "source": [
    "counting_rules = dict(zip(counting_df.Card, counting_df.Value))\n",
    "small_cards = counting_df[counting_df['Value']>0].Card.tolist()"
   ]
  },
  {
   "cell_type": "code",
   "execution_count": 32,
   "metadata": {},
   "outputs": [],
   "source": [
    "run_sims_flag = False\n",
    "num_sims = 1000000\n",
    "jackpot = 500000\n",
    "cost_to_play = 5\n",
    "win_counter = 0\n",
    "avg_rt = num_sims*60/3600 #assume 60 seconds/hand in real life. \n",
    "lower_rt = num_sims*30/3600 #assume 30 seconds/hand in real life.\n",
    "upper_rt = num_sims*90/3600 #assume 90 seconds/hand in real life."
   ]
  },
  {
   "cell_type": "code",
   "execution_count": 6,
   "metadata": {},
   "outputs": [],
   "source": [
    "if run_sims_flag == True: \n",
    "    num_decks_list = [8,7,6,5,4,3,2,1]\n",
    "    matrix = []\n",
    "    for num_decks in num_decks_list: \n",
    "        data = []\n",
    "        expectation = -1*num_sims*5\n",
    "        for running_count in range(4*5*num_decks):  \n",
    "            shoe = Blackjack_shoe(num_decks_remaining=num_decks,running_count=running_count,\\\n",
    "                            counting_rules=counting_rules,small_cards=small_cards,win_counter=0)        \n",
    "            for j in range(num_sims): \n",
    "                shoe.create_shoe()\n",
    "                shoe.establish_count()\n",
    "                shoe.evaluate_jackpot()\n",
    "            shoe.summarize_results()\n",
    "            num_wins = shoe.get_expectation_ranges()\n",
    "            data = [num_decks,running_count,num_wins]\n",
    "            matrix.append(data)\n",
    "    df = pd.DataFrame(matrix,columns = ['num_decks','running_count','num_wins'])\n",
    "    df.to_csv(os.getcwd()+'/counting_systems/simulated_results1.csv')\n",
    "    df.head()"
   ]
  },
  {
   "cell_type": "code",
   "execution_count": 27,
   "metadata": {},
   "outputs": [
    {
     "data": {
      "text/html": [
       "<div>\n",
       "<style scoped>\n",
       "    .dataframe tbody tr th:only-of-type {\n",
       "        vertical-align: middle;\n",
       "    }\n",
       "\n",
       "    .dataframe tbody tr th {\n",
       "        vertical-align: top;\n",
       "    }\n",
       "\n",
       "    .dataframe thead th {\n",
       "        text-align: right;\n",
       "    }\n",
       "</style>\n",
       "<table border=\"1\" class=\"dataframe\">\n",
       "  <thead>\n",
       "    <tr style=\"text-align: right;\">\n",
       "      <th></th>\n",
       "      <th>num_decks</th>\n",
       "      <th>running_count</th>\n",
       "      <th>num_wins</th>\n",
       "    </tr>\n",
       "  </thead>\n",
       "  <tbody>\n",
       "    <tr>\n",
       "      <th>0</th>\n",
       "      <td>8</td>\n",
       "      <td>0</td>\n",
       "      <td>9</td>\n",
       "    </tr>\n",
       "    <tr>\n",
       "      <th>1</th>\n",
       "      <td>8</td>\n",
       "      <td>1</td>\n",
       "      <td>6</td>\n",
       "    </tr>\n",
       "    <tr>\n",
       "      <th>2</th>\n",
       "      <td>8</td>\n",
       "      <td>2</td>\n",
       "      <td>4</td>\n",
       "    </tr>\n",
       "    <tr>\n",
       "      <th>3</th>\n",
       "      <td>8</td>\n",
       "      <td>3</td>\n",
       "      <td>4</td>\n",
       "    </tr>\n",
       "    <tr>\n",
       "      <th>4</th>\n",
       "      <td>8</td>\n",
       "      <td>4</td>\n",
       "      <td>9</td>\n",
       "    </tr>\n",
       "  </tbody>\n",
       "</table>\n",
       "</div>"
      ],
      "text/plain": [
       "   num_decks  running_count  num_wins\n",
       "0          8              0         9\n",
       "1          8              1         6\n",
       "2          8              2         4\n",
       "3          8              3         4\n",
       "4          8              4         9"
      ]
     },
     "execution_count": 27,
     "metadata": {},
     "output_type": "execute_result"
    }
   ],
   "source": [
    "df = pd.read_csv(os.getcwd()+'/counting_systems/simulated_results1.csv').drop(['Unnamed: 0'],axis=1)\n",
    "df.head()"
   ]
  },
  {
   "cell_type": "code",
   "execution_count": 28,
   "metadata": {},
   "outputs": [
    {
     "data": {
      "text/html": [
       "<div>\n",
       "<style scoped>\n",
       "    .dataframe tbody tr th:only-of-type {\n",
       "        vertical-align: middle;\n",
       "    }\n",
       "\n",
       "    .dataframe tbody tr th {\n",
       "        vertical-align: top;\n",
       "    }\n",
       "\n",
       "    .dataframe thead th {\n",
       "        text-align: right;\n",
       "    }\n",
       "</style>\n",
       "<table border=\"1\" class=\"dataframe\">\n",
       "  <thead>\n",
       "    <tr style=\"text-align: right;\">\n",
       "      <th></th>\n",
       "      <th>num_decks</th>\n",
       "      <th>running_count</th>\n",
       "      <th>num_wins</th>\n",
       "      <th>Expected_Cash_Return</th>\n",
       "      <th>avg</th>\n",
       "      <th>upper</th>\n",
       "      <th>lower</th>\n",
       "    </tr>\n",
       "  </thead>\n",
       "  <tbody>\n",
       "    <tr>\n",
       "      <th>0</th>\n",
       "      <td>8</td>\n",
       "      <td>0</td>\n",
       "      <td>9</td>\n",
       "      <td>9625000.0</td>\n",
       "      <td>577.5</td>\n",
       "      <td>385.0</td>\n",
       "      <td>1155.0</td>\n",
       "    </tr>\n",
       "    <tr>\n",
       "      <th>1</th>\n",
       "      <td>8</td>\n",
       "      <td>1</td>\n",
       "      <td>6</td>\n",
       "      <td>4750000.0</td>\n",
       "      <td>285.0</td>\n",
       "      <td>190.0</td>\n",
       "      <td>570.0</td>\n",
       "    </tr>\n",
       "    <tr>\n",
       "      <th>2</th>\n",
       "      <td>8</td>\n",
       "      <td>2</td>\n",
       "      <td>4</td>\n",
       "      <td>1500000.0</td>\n",
       "      <td>90.0</td>\n",
       "      <td>60.0</td>\n",
       "      <td>180.0</td>\n",
       "    </tr>\n",
       "    <tr>\n",
       "      <th>3</th>\n",
       "      <td>8</td>\n",
       "      <td>3</td>\n",
       "      <td>4</td>\n",
       "      <td>1500000.0</td>\n",
       "      <td>90.0</td>\n",
       "      <td>60.0</td>\n",
       "      <td>180.0</td>\n",
       "    </tr>\n",
       "    <tr>\n",
       "      <th>4</th>\n",
       "      <td>8</td>\n",
       "      <td>4</td>\n",
       "      <td>9</td>\n",
       "      <td>9625000.0</td>\n",
       "      <td>577.5</td>\n",
       "      <td>385.0</td>\n",
       "      <td>1155.0</td>\n",
       "    </tr>\n",
       "  </tbody>\n",
       "</table>\n",
       "</div>"
      ],
      "text/plain": [
       "   num_decks  running_count  num_wins  Expected_Cash_Return    avg  upper  \\\n",
       "0          8              0         9             9625000.0  577.5  385.0   \n",
       "1          8              1         6             4750000.0  285.0  190.0   \n",
       "2          8              2         4             1500000.0   90.0   60.0   \n",
       "3          8              3         4             1500000.0   90.0   60.0   \n",
       "4          8              4         9             9625000.0  577.5  385.0   \n",
       "\n",
       "    lower  \n",
       "0  1155.0  \n",
       "1   570.0  \n",
       "2   180.0  \n",
       "3   180.0  \n",
       "4  1155.0  "
      ]
     },
     "execution_count": 28,
     "metadata": {},
     "output_type": "execute_result"
    }
   ],
   "source": [
    "df['Expected_Cash_Return']=(df['num_wins']*jackpot*(0.25+0.025+0.025+0.025)) - num_sims*cost_to_play\n",
    "df['avg'] =  df['Expected_Cash_Return']/avg_rt\n",
    "df['upper'] =  df['Expected_Cash_Return']/upper_rt\n",
    "df['lower'] = df['Expected_Cash_Return']/lower_rt\n",
    "df.head()"
   ]
  },
  {
   "cell_type": "code",
   "execution_count": 29,
   "metadata": {},
   "outputs": [
    {
     "data": {
      "text/html": [
       "<div>\n",
       "<style scoped>\n",
       "    .dataframe tbody tr th:only-of-type {\n",
       "        vertical-align: middle;\n",
       "    }\n",
       "\n",
       "    .dataframe tbody tr th {\n",
       "        vertical-align: top;\n",
       "    }\n",
       "\n",
       "    .dataframe thead th {\n",
       "        text-align: right;\n",
       "    }\n",
       "</style>\n",
       "<table border=\"1\" class=\"dataframe\">\n",
       "  <thead>\n",
       "    <tr style=\"text-align: right;\">\n",
       "      <th></th>\n",
       "      <th>num_decks</th>\n",
       "      <th>running_count</th>\n",
       "      <th>num_wins</th>\n",
       "      <th>Expected_Cash_Return</th>\n",
       "      <th>avg</th>\n",
       "      <th>upper</th>\n",
       "      <th>lower</th>\n",
       "      <th>True_Count</th>\n",
       "    </tr>\n",
       "  </thead>\n",
       "  <tbody>\n",
       "    <tr>\n",
       "      <th>0</th>\n",
       "      <td>8</td>\n",
       "      <td>0</td>\n",
       "      <td>9</td>\n",
       "      <td>9625000.0</td>\n",
       "      <td>577.5</td>\n",
       "      <td>385.0</td>\n",
       "      <td>1155.0</td>\n",
       "      <td>0.000</td>\n",
       "    </tr>\n",
       "    <tr>\n",
       "      <th>1</th>\n",
       "      <td>8</td>\n",
       "      <td>1</td>\n",
       "      <td>6</td>\n",
       "      <td>4750000.0</td>\n",
       "      <td>285.0</td>\n",
       "      <td>190.0</td>\n",
       "      <td>570.0</td>\n",
       "      <td>0.125</td>\n",
       "    </tr>\n",
       "    <tr>\n",
       "      <th>2</th>\n",
       "      <td>8</td>\n",
       "      <td>2</td>\n",
       "      <td>4</td>\n",
       "      <td>1500000.0</td>\n",
       "      <td>90.0</td>\n",
       "      <td>60.0</td>\n",
       "      <td>180.0</td>\n",
       "      <td>0.250</td>\n",
       "    </tr>\n",
       "    <tr>\n",
       "      <th>3</th>\n",
       "      <td>8</td>\n",
       "      <td>3</td>\n",
       "      <td>4</td>\n",
       "      <td>1500000.0</td>\n",
       "      <td>90.0</td>\n",
       "      <td>60.0</td>\n",
       "      <td>180.0</td>\n",
       "      <td>0.375</td>\n",
       "    </tr>\n",
       "    <tr>\n",
       "      <th>4</th>\n",
       "      <td>8</td>\n",
       "      <td>4</td>\n",
       "      <td>9</td>\n",
       "      <td>9625000.0</td>\n",
       "      <td>577.5</td>\n",
       "      <td>385.0</td>\n",
       "      <td>1155.0</td>\n",
       "      <td>0.500</td>\n",
       "    </tr>\n",
       "  </tbody>\n",
       "</table>\n",
       "</div>"
      ],
      "text/plain": [
       "   num_decks  running_count  num_wins  Expected_Cash_Return    avg  upper  \\\n",
       "0          8              0         9             9625000.0  577.5  385.0   \n",
       "1          8              1         6             4750000.0  285.0  190.0   \n",
       "2          8              2         4             1500000.0   90.0   60.0   \n",
       "3          8              3         4             1500000.0   90.0   60.0   \n",
       "4          8              4         9             9625000.0  577.5  385.0   \n",
       "\n",
       "    lower  True_Count  \n",
       "0  1155.0       0.000  \n",
       "1   570.0       0.125  \n",
       "2   180.0       0.250  \n",
       "3   180.0       0.375  \n",
       "4  1155.0       0.500  "
      ]
     },
     "execution_count": 29,
     "metadata": {},
     "output_type": "execute_result"
    }
   ],
   "source": [
    "df['True_Count'] = df['running_count']/df['num_decks']\n",
    "df.head()"
   ]
  },
  {
   "cell_type": "code",
   "execution_count": 33,
   "metadata": {},
   "outputs": [
    {
     "data": {
      "text/plain": [
       "<AxesSubplot:xlabel='True_Count'>"
      ]
     },
     "execution_count": 33,
     "metadata": {},
     "output_type": "execute_result"
    },
    {
     "data": {
      "image/png": "[encoded data removed]",
      "text/plain": [
       "<Figure size 432x288 with 1 Axes>"
      ]
     },
     "metadata": {
      "needs_background": "light"
     },
     "output_type": "display_data"
    }
   ],
   "source": [
    "df.plot(x='True_Count', y='avg', style='o')"
   ]
  },
  {
   "cell_type": "code",
   "execution_count": null,
   "metadata": {},
   "outputs": [],
   "source": []
  }
 ],
 "metadata": {
  "kernelspec": {
   "display_name": "Python 3",
   "language": "python",
   "name": "python3"
  },
  "language_info": {
   "codemirror_mode": {
    "name": "ipython",
    "version": 3
   },
   "file_extension": ".py",
   "mimetype": "text/x-python",
   "name": "python",
   "nbconvert_exporter": "python",
   "pygments_lexer": "ipython3",
   "version": "3.7.7"
  }
 },
 "nbformat": 4,
 "nbformat_minor": 4
}
