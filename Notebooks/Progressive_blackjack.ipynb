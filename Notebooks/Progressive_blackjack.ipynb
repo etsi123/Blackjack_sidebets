{
 "cells": [
  {
   "cell_type": "code",
   "execution_count": 5,
   "metadata": {},
   "outputs": [],
   "source": [
    "import pandas as pd\n",
    "import numpy as np\n",
    "from random import shuffle"
   ]
  },
  {
   "cell_type": "code",
   "execution_count": 6,
   "metadata": {},
   "outputs": [],
   "source": [
    "num_decks = 8\n",
    "deck_pen = 0.95"
   ]
  },
  {
   "cell_type": "code",
   "execution_count": 9,
   "metadata": {},
   "outputs": [],
   "source": [
    "cards = ['ace','king','queen','jack','ten','nine','eight','seven','six','five','four','three','two']\n",
    "suits = ['spades','hearts','clubs','diamonds']"
   ]
  },
  {
   "cell_type": "code",
   "execution_count": 10,
   "metadata": {},
   "outputs": [],
   "source": [
    "counting_rules = {}\n",
    "for card in cards: \n",
    "    for suit in suits: \n",
    "        label = card+'_of_'+suit\n",
    "        if card in ['two','three','four','five','six']: \n",
    "            counting_rules[label] = 1\n",
    "        elif card in ['seven','eight','nine']:\n",
    "            counting_rules[label] = 0\n",
    "        else:\n",
    "            counting_rules[label] = -1"
   ]
  },
  {
   "cell_type": "code",
   "execution_count": 13,
   "metadata": {},
   "outputs": [],
   "source": [
    "def create_shoe(num_decks):\n",
    "    \"\"\"\n",
    "    Parameters\n",
    "    ----------\n",
    "    num_decks : The Number of decks used to construct the shoe that will be played with. \n",
    "    This is chosen by the casino and fewer decks favors the player. \n",
    "    Returns\n",
    "    -------\n",
    "    shoe : The shuffled shoe. num_decks combined into one massive deck and shuffled. \n",
    "    \"\"\"\n",
    "    shoe = []\n",
    "    for i in range(num_decks):\n",
    "        unique_cards = list(counting_rules.keys())\n",
    "        shoe = shoe + unique_cards\n",
    "    shuffle(shoe)\n",
    "    return shoe"
   ]
  },
  {
   "cell_type": "code",
   "execution_count": null,
   "metadata": {},
   "outputs": [],
   "source": []
  },
  {
   "cell_type": "code",
   "execution_count": null,
   "metadata": {},
   "outputs": [],
   "source": []
  },
  {
   "cell_type": "code",
   "execution_count": null,
   "metadata": {},
   "outputs": [],
   "source": []
  },
  {
   "cell_type": "code",
   "execution_count": null,
   "metadata": {},
   "outputs": [],
   "source": []
  },
  {
   "cell_type": "code",
   "execution_count": null,
   "metadata": {},
   "outputs": [],
   "source": []
  },
  {
   "cell_type": "code",
   "execution_count": null,
   "metadata": {},
   "outputs": [],
   "source": []
  }
 ],
 "metadata": {
  "kernelspec": {
   "display_name": "Python 3",
   "language": "python",
   "name": "python3"
  },
  "language_info": {
   "codemirror_mode": {
    "name": "ipython",
    "version": 3
   },
   "file_extension": ".py",
   "mimetype": "text/x-python",
   "name": "python",
   "nbconvert_exporter": "python",
   "pygments_lexer": "ipython3",
   "version": "3.8.5"
  }
 },
 "nbformat": 4,
 "nbformat_minor": 4
}
