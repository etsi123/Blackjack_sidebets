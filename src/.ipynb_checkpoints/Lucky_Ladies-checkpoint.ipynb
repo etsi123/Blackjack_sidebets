{
 "cells": [
  {
   "cell_type": "markdown",
   "metadata": {},
   "source": [
    "## Code to analyze the popular Blackjack sidebet game, the Lucky Ladies. The Lucky Ladies pay out according to the pay table below\n",
    "1. Queen of hearts pair and dealer has bj (1000 to 1)\n",
    "2. Queen of hearts pair (200 to 1)\n",
    "3. Matched 20 (25 to 1)\n",
    "4. Suited 20 (10 to 1)\n",
    "5. Unsuited 20 (4 to 1)"
   ]
  },
  {
   "cell_type": "code",
   "execution_count": 1,
   "metadata": {},
   "outputs": [],
   "source": [
    "import pandas as pd\n",
    "import numpy as np\n",
    "from random import shuffle\n",
    "from blackjack_sidebet_sim import Blackjack_shoe\n",
    "import os\n",
    "import math\n",
    "import matplotlib.pyplot as plt\n",
    "from sklearn.preprocessing import MinMaxScaler\n",
    "from sklearn import datasets, ensemble\n",
    "from sklearn import ensemble\n",
    "from sklearn.metrics import mean_squared_error\n",
    "from sklearn.model_selection import train_test_split\n",
    "from sklearn.linear_model import LinearRegression\n",
    "from math import comb\n",
    "import operator\n",
    "from tqdm import tqdm"
   ]
  },
  {
   "cell_type": "code",
   "execution_count": 2,
   "metadata": {},
   "outputs": [
    {
     "data": {
      "text/html": [
       "<div>\n",
       "<style scoped>\n",
       "    .dataframe tbody tr th:only-of-type {\n",
       "        vertical-align: middle;\n",
       "    }\n",
       "\n",
       "    .dataframe tbody tr th {\n",
       "        vertical-align: top;\n",
       "    }\n",
       "\n",
       "    .dataframe thead th {\n",
       "        text-align: right;\n",
       "    }\n",
       "</style>\n",
       "<table border=\"1\" class=\"dataframe\">\n",
       "  <thead>\n",
       "    <tr style=\"text-align: right;\">\n",
       "      <th></th>\n",
       "      <th>Outcome</th>\n",
       "      <th>Payout</th>\n",
       "    </tr>\n",
       "  </thead>\n",
       "  <tbody>\n",
       "    <tr>\n",
       "      <th>0</th>\n",
       "      <td>Queen of Hearts pair and dealer has bj</td>\n",
       "      <td>1000:1</td>\n",
       "    </tr>\n",
       "    <tr>\n",
       "      <th>1</th>\n",
       "      <td>Queen of Hearts pair</td>\n",
       "      <td>200:1</td>\n",
       "    </tr>\n",
       "    <tr>\n",
       "      <th>2</th>\n",
       "      <td>Matched 20</td>\n",
       "      <td>25:1</td>\n",
       "    </tr>\n",
       "    <tr>\n",
       "      <th>3</th>\n",
       "      <td>Suited 20</td>\n",
       "      <td>10:1</td>\n",
       "    </tr>\n",
       "    <tr>\n",
       "      <th>4</th>\n",
       "      <td>Unsuited 20</td>\n",
       "      <td>4:1</td>\n",
       "    </tr>\n",
       "  </tbody>\n",
       "</table>\n",
       "</div>"
      ],
      "text/plain": [
       "                                  Outcome  Payout\n",
       "0  Queen of Hearts pair and dealer has bj  1000:1\n",
       "1                    Queen of Hearts pair   200:1\n",
       "2                              Matched 20    25:1\n",
       "3                               Suited 20    10:1\n",
       "4                             Unsuited 20     4:1"
      ]
     },
     "execution_count": 2,
     "metadata": {},
     "output_type": "execute_result"
    }
   ],
   "source": [
    "paytable = {}\n",
    "paytable['Outcome'] = ['Queen of Hearts pair and dealer has bj','Queen of Hearts pair','Matched 20','Suited 20','Unsuited 20']\n",
    "paytable['Payout'] = ['1000:1','200:1','25:1','10:1','4:1']\n",
    "pd.DataFrame(paytable)"
   ]
  },
  {
   "cell_type": "code",
   "execution_count": 3,
   "metadata": {},
   "outputs": [],
   "source": [
    "def analytical_lucky_ladies(num_decks_list,ev_list,num_games):\n",
    "    matrix = []\n",
    "    for num_decks in num_decks_list: \n",
    "        for running_count in range(4*5*num_decks): \n",
    "            q_hearts_with_bj = comb(num_decks,2)*comb(num_decks*4,1)*comb(num_decks*16-2,1)  \n",
    "            q_hearts_no_bj = comb(num_decks,2)*comb(52*num_decks-2-running_count,2) - q_hearts_with_bj\n",
    "            matched_20 = comb(15,1) * comb(num_decks,2) * comb(num_decks*52-2-running_count,2)\n",
    "            suited_20 = 7*comb(4,1)*comb(num_decks,1)*comb(num_decks,1)*comb(num_decks*52-2,2)\n",
    "            unsuited_20 = 18*comb(4,2)*comb(num_decks,1)*comb(num_decks,1)*comb(num_decks*52-2-running_count,2)\n",
    "            total = comb(52*num_decks-running_count,4)*comb(4,2)\n",
    "            other = total - (q_hearts_with_bj + q_hearts_no_bj + matched_20 + suited_20 + unsuited_20)\n",
    "            sol = [q_hearts_with_bj,q_hearts_no_bj,matched_20,suited_20,unsuited_20,other]\n",
    "            norm_sol = np.divide(sol, total)\n",
    "            ev = sum(list(map(operator.mul, norm_sol, ev_list))) * num_games\n",
    "            data = [num_decks,running_count,ev]\n",
    "            matrix.append(data)\n",
    "    return matrix"
   ]
  },
  {
   "cell_type": "code",
   "execution_count": 4,
   "metadata": {},
   "outputs": [
    {
     "data": {
      "text/html": [
       "<div>\n",
       "<style scoped>\n",
       "    .dataframe tbody tr th:only-of-type {\n",
       "        vertical-align: middle;\n",
       "    }\n",
       "\n",
       "    .dataframe tbody tr th {\n",
       "        vertical-align: top;\n",
       "    }\n",
       "\n",
       "    .dataframe thead th {\n",
       "        text-align: right;\n",
       "    }\n",
       "</style>\n",
       "<table border=\"1\" class=\"dataframe\">\n",
       "  <thead>\n",
       "    <tr style=\"text-align: right;\">\n",
       "      <th></th>\n",
       "      <th>Outcome</th>\n",
       "      <th>Combinations</th>\n",
       "      <th>Probabilities</th>\n",
       "      <th>Pay Table</th>\n",
       "      <th>Expected Return</th>\n",
       "    </tr>\n",
       "  </thead>\n",
       "  <tbody>\n",
       "    <tr>\n",
       "      <th>0</th>\n",
       "      <td>Queen of Hearts pair and dealer has bj</td>\n",
       "      <td>112896</td>\n",
       "      <td>0.000015</td>\n",
       "      <td>1000.0</td>\n",
       "      <td>0.015298</td>\n",
       "    </tr>\n",
       "    <tr>\n",
       "      <th>1</th>\n",
       "      <td>Queen of Hearts pair</td>\n",
       "      <td>2280852</td>\n",
       "      <td>0.000309</td>\n",
       "      <td>200.0</td>\n",
       "      <td>0.061815</td>\n",
       "    </tr>\n",
       "    <tr>\n",
       "      <th>2</th>\n",
       "      <td>Matched 20</td>\n",
       "      <td>35906220</td>\n",
       "      <td>0.004866</td>\n",
       "      <td>25.0</td>\n",
       "      <td>0.121640</td>\n",
       "    </tr>\n",
       "    <tr>\n",
       "      <th>3</th>\n",
       "      <td>Suited 20</td>\n",
       "      <td>153199872</td>\n",
       "      <td>0.020760</td>\n",
       "      <td>10.0</td>\n",
       "      <td>0.207600</td>\n",
       "    </tr>\n",
       "    <tr>\n",
       "      <th>4</th>\n",
       "      <td>Unsuited 20</td>\n",
       "      <td>590913792</td>\n",
       "      <td>0.080074</td>\n",
       "      <td>4.0</td>\n",
       "      <td>0.320297</td>\n",
       "    </tr>\n",
       "    <tr>\n",
       "      <th>5</th>\n",
       "      <td>Other</td>\n",
       "      <td>6597169488</td>\n",
       "      <td>0.893976</td>\n",
       "      <td>-1.0</td>\n",
       "      <td>-0.893976</td>\n",
       "    </tr>\n",
       "    <tr>\n",
       "      <th>6</th>\n",
       "      <td>Total</td>\n",
       "      <td>7379583120</td>\n",
       "      <td>1.000000</td>\n",
       "      <td>NaN</td>\n",
       "      <td>-0.167326</td>\n",
       "    </tr>\n",
       "  </tbody>\n",
       "</table>\n",
       "</div>"
      ],
      "text/plain": [
       "                                  Outcome  Combinations  Probabilities  \\\n",
       "0  Queen of Hearts pair and dealer has bj        112896       0.000015   \n",
       "1                    Queen of Hearts pair       2280852       0.000309   \n",
       "2                              Matched 20      35906220       0.004866   \n",
       "3                               Suited 20     153199872       0.020760   \n",
       "4                             Unsuited 20     590913792       0.080074   \n",
       "5                                   Other    6597169488       0.893976   \n",
       "6                                   Total    7379583120       1.000000   \n",
       "\n",
       "   Pay Table  Expected Return  \n",
       "0     1000.0         0.015298  \n",
       "1      200.0         0.061815  \n",
       "2       25.0         0.121640  \n",
       "3       10.0         0.207600  \n",
       "4        4.0         0.320297  \n",
       "5       -1.0        -0.893976  \n",
       "6        NaN        -0.167326  "
      ]
     },
     "execution_count": 4,
     "metadata": {},
     "output_type": "execute_result"
    }
   ],
   "source": [
    "LL_Analytics = {}\n",
    "LL_Analytics['Outcome'] = ['Queen of Hearts pair and dealer has bj','Queen of Hearts pair','Matched 20','Suited 20','Unsuited 20','Other','Total']\n",
    "LL_Analytics['Combinations'] = [112896, 2280852, 35906220, 153199872, 590913792, 6597169488,7379583120]\n",
    "LL_Analytics['Probabilities'] = [1.52984252e-05, 3.09075996e-04, 4.86561631e-03, 2.07599629e-02, 8.00741427e-02, 8.93975904e-01,1.0]\n",
    "LL_Analytics['Pay Table'] = [1000.,200.,25.,10.,4.,-1.,np.nan]\n",
    "LL_Analytics['Expected Return'] = np.multiply(LL_Analytics['Probabilities'],LL_Analytics['Pay Table'])\n",
    "LL_df = pd.DataFrame(LL_Analytics)\n",
    "LL_df.loc[LL_df.Outcome == 'Total', 'Expected Return'] = LL_df[['Expected Return']].fillna(0).sum()[0]\n",
    "LL_df.head(10)"
   ]
  },
  {
   "cell_type": "code",
   "execution_count": 5,
   "metadata": {},
   "outputs": [],
   "source": [
    "cards = ['ace','king','queen','jack','ten','nine','eight','seven','six','five','four','three','two']\n",
    "suits = ['spades','hearts','clubs','diamonds']"
   ]
  },
  {
   "cell_type": "code",
   "execution_count": 6,
   "metadata": {},
   "outputs": [],
   "source": [
    "card_values = {'ace':11,'king':10,'queen':10,'jack':10,'ten':10,'nine':9,'eight':8,\\\n",
    "           'seven':7,'six':6,'five':5,'four':4,'three':3,'two':2}"
   ]
  },
  {
   "cell_type": "code",
   "execution_count": 7,
   "metadata": {},
   "outputs": [
    {
     "data": {
      "text/html": [
       "<div>\n",
       "<style scoped>\n",
       "    .dataframe tbody tr th:only-of-type {\n",
       "        vertical-align: middle;\n",
       "    }\n",
       "\n",
       "    .dataframe tbody tr th {\n",
       "        vertical-align: top;\n",
       "    }\n",
       "\n",
       "    .dataframe thead th {\n",
       "        text-align: right;\n",
       "    }\n",
       "</style>\n",
       "<table border=\"1\" class=\"dataframe\">\n",
       "  <thead>\n",
       "    <tr style=\"text-align: right;\">\n",
       "      <th></th>\n",
       "      <th>Card</th>\n",
       "      <th>Value</th>\n",
       "    </tr>\n",
       "  </thead>\n",
       "  <tbody>\n",
       "    <tr>\n",
       "      <th>0</th>\n",
       "      <td>ace_of_spades</td>\n",
       "      <td>-1</td>\n",
       "    </tr>\n",
       "    <tr>\n",
       "      <th>1</th>\n",
       "      <td>ace_of_hearts</td>\n",
       "      <td>-1</td>\n",
       "    </tr>\n",
       "    <tr>\n",
       "      <th>2</th>\n",
       "      <td>ace_of_clubs</td>\n",
       "      <td>-1</td>\n",
       "    </tr>\n",
       "    <tr>\n",
       "      <th>3</th>\n",
       "      <td>ace_of_diamonds</td>\n",
       "      <td>-1</td>\n",
       "    </tr>\n",
       "    <tr>\n",
       "      <th>4</th>\n",
       "      <td>king_of_spades</td>\n",
       "      <td>-1</td>\n",
       "    </tr>\n",
       "  </tbody>\n",
       "</table>\n",
       "</div>"
      ],
      "text/plain": [
       "              Card  Value\n",
       "0    ace_of_spades     -1\n",
       "1    ace_of_hearts     -1\n",
       "2     ace_of_clubs     -1\n",
       "3  ace_of_diamonds     -1\n",
       "4   king_of_spades     -1"
      ]
     },
     "execution_count": 7,
     "metadata": {},
     "output_type": "execute_result"
    }
   ],
   "source": [
    "counting_df = pd.read_csv(os.getcwd()+'/counting_systems/high_low_blackjack.csv').drop(['Unnamed: 0'],axis=1)\n",
    "counting_df.head()"
   ]
  },
  {
   "cell_type": "code",
   "execution_count": 8,
   "metadata": {},
   "outputs": [],
   "source": [
    "counting_rules = dict(zip(counting_df.Card, counting_df.Value))\n",
    "small_cards = counting_df[counting_df['Value']>0].Card.tolist()"
   ]
  },
  {
   "cell_type": "code",
   "execution_count": 9,
   "metadata": {},
   "outputs": [],
   "source": [
    "ev_list = [1000.,200.,25.,10.,4.,-1.]\n",
    "num_decks_list = [8,7,6,5,4,3,2,1]\n",
    "matrix = []\n",
    "num_games = 100000\n",
    "cost_to_play = 1 #1 unit (min bet is $1, max is $25 at most casinos)\n",
    "avg_rt = num_games*30/3600 #assume 60 seconds/hand in real life. \n",
    "matrix = analytical_lucky_ladies(num_decks_list,ev_list,num_games)"
   ]
  },
  {
   "cell_type": "code",
   "execution_count": 10,
   "metadata": {},
   "outputs": [
    {
     "data": {
      "text/html": [
       "<div>\n",
       "<style scoped>\n",
       "    .dataframe tbody tr th:only-of-type {\n",
       "        vertical-align: middle;\n",
       "    }\n",
       "\n",
       "    .dataframe tbody tr th {\n",
       "        vertical-align: top;\n",
       "    }\n",
       "\n",
       "    .dataframe thead th {\n",
       "        text-align: right;\n",
       "    }\n",
       "</style>\n",
       "<table border=\"1\" class=\"dataframe\">\n",
       "  <thead>\n",
       "    <tr style=\"text-align: right;\">\n",
       "      <th></th>\n",
       "      <th>num_decks_initial</th>\n",
       "      <th>running_count</th>\n",
       "      <th>expected_value</th>\n",
       "      <th>avg (units/hour)</th>\n",
       "      <th>true_count</th>\n",
       "    </tr>\n",
       "  </thead>\n",
       "  <tbody>\n",
       "    <tr>\n",
       "      <th>0</th>\n",
       "      <td>8</td>\n",
       "      <td>0</td>\n",
       "      <td>-16732.567137</td>\n",
       "      <td>-20.079081</td>\n",
       "      <td>0.000000</td>\n",
       "    </tr>\n",
       "    <tr>\n",
       "      <th>1</th>\n",
       "      <td>8</td>\n",
       "      <td>1</td>\n",
       "      <td>-16212.949472</td>\n",
       "      <td>-19.455539</td>\n",
       "      <td>0.125301</td>\n",
       "    </tr>\n",
       "    <tr>\n",
       "      <th>2</th>\n",
       "      <td>8</td>\n",
       "      <td>2</td>\n",
       "      <td>-15688.412393</td>\n",
       "      <td>-18.826095</td>\n",
       "      <td>0.251208</td>\n",
       "    </tr>\n",
       "    <tr>\n",
       "      <th>3</th>\n",
       "      <td>8</td>\n",
       "      <td>3</td>\n",
       "      <td>-15158.894144</td>\n",
       "      <td>-18.190673</td>\n",
       "      <td>0.377724</td>\n",
       "    </tr>\n",
       "    <tr>\n",
       "      <th>4</th>\n",
       "      <td>8</td>\n",
       "      <td>4</td>\n",
       "      <td>-14624.332007</td>\n",
       "      <td>-17.549198</td>\n",
       "      <td>0.504854</td>\n",
       "    </tr>\n",
       "  </tbody>\n",
       "</table>\n",
       "</div>"
      ],
      "text/plain": [
       "   num_decks_initial  running_count  expected_value  avg (units/hour)  \\\n",
       "0                  8              0   -16732.567137        -20.079081   \n",
       "1                  8              1   -16212.949472        -19.455539   \n",
       "2                  8              2   -15688.412393        -18.826095   \n",
       "3                  8              3   -15158.894144        -18.190673   \n",
       "4                  8              4   -14624.332007        -17.549198   \n",
       "\n",
       "   true_count  \n",
       "0    0.000000  \n",
       "1    0.125301  \n",
       "2    0.251208  \n",
       "3    0.377724  \n",
       "4    0.504854  "
      ]
     },
     "execution_count": 10,
     "metadata": {},
     "output_type": "execute_result"
    }
   ],
   "source": [
    "df = pd.DataFrame(matrix,columns = ['num_decks_initial','running_count','expected_value'])\n",
    "df = df[df['num_decks_initial']!=1]\n",
    "df['avg (units/hour)'] =  df['expected_value']/avg_rt\n",
    "df['true_count'] = df['running_count'] / ((df['num_decks_initial']*52 - df['running_count'])/52)\n",
    "df.head()"
   ]
  },
  {
   "cell_type": "markdown",
   "metadata": {},
   "source": [
    "## This analysis is perfect if we are constantly playing the game at these conditions. We must multiply the expected value by the frequency with which these conditions occur. This will give a more accurate representation of an hourly rate. "
   ]
  },
  {
   "cell_type": "code",
   "execution_count": 11,
   "metadata": {},
   "outputs": [
    {
     "name": "stderr",
     "output_type": "stream",
     "text": [
      "100%|████████████████████████████████████| 10000/10000 [00:37<00:00, 266.37it/s]\n"
     ]
    }
   ],
   "source": [
    "num_decks=8\n",
    "running_count = 0\n",
    "freq_list = []\n",
    "num_games = 10000\n",
    "time_to_finish_all_shoes = 20*num_games / 60 # (in hours)\n",
    "for i in tqdm(range(0,num_games)):\n",
    "    shoe = Blackjack_shoe(num_decks_remaining=num_decks,running_count=running_count,\\\n",
    "                counting_rules=counting_rules,small_cards=small_cards,win_counter=0)  \n",
    "    shoe.create_shoe()\n",
    "    freq_list = freq_list + shoe.simulate_blackjack_shoe(0.95)"
   ]
  },
  {
   "cell_type": "code",
   "execution_count": 12,
   "metadata": {},
   "outputs": [
    {
     "data": {
      "text/html": [
       "<div>\n",
       "<style scoped>\n",
       "    .dataframe tbody tr th:only-of-type {\n",
       "        vertical-align: middle;\n",
       "    }\n",
       "\n",
       "    .dataframe tbody tr th {\n",
       "        vertical-align: top;\n",
       "    }\n",
       "\n",
       "    .dataframe thead th {\n",
       "        text-align: right;\n",
       "    }\n",
       "</style>\n",
       "<table border=\"1\" class=\"dataframe\">\n",
       "  <thead>\n",
       "    <tr style=\"text-align: right;\">\n",
       "      <th></th>\n",
       "      <th>num_decks_initial</th>\n",
       "      <th>running_count</th>\n",
       "      <th>true_count</th>\n",
       "    </tr>\n",
       "  </thead>\n",
       "  <tbody>\n",
       "    <tr>\n",
       "      <th>0</th>\n",
       "      <td>8.000000</td>\n",
       "      <td>0</td>\n",
       "      <td>0.000000</td>\n",
       "    </tr>\n",
       "    <tr>\n",
       "      <th>1</th>\n",
       "      <td>7.865385</td>\n",
       "      <td>0</td>\n",
       "      <td>0.000000</td>\n",
       "    </tr>\n",
       "    <tr>\n",
       "      <th>2</th>\n",
       "      <td>7.788462</td>\n",
       "      <td>-1</td>\n",
       "      <td>-0.128395</td>\n",
       "    </tr>\n",
       "    <tr>\n",
       "      <th>3</th>\n",
       "      <td>7.750000</td>\n",
       "      <td>-2</td>\n",
       "      <td>-0.258065</td>\n",
       "    </tr>\n",
       "    <tr>\n",
       "      <th>4</th>\n",
       "      <td>7.692308</td>\n",
       "      <td>-3</td>\n",
       "      <td>-0.390000</td>\n",
       "    </tr>\n",
       "  </tbody>\n",
       "</table>\n",
       "</div>"
      ],
      "text/plain": [
       "   num_decks_initial  running_count  true_count\n",
       "0           8.000000              0    0.000000\n",
       "1           7.865385              0    0.000000\n",
       "2           7.788462             -1   -0.128395\n",
       "3           7.750000             -2   -0.258065\n",
       "4           7.692308             -3   -0.390000"
      ]
     },
     "execution_count": 12,
     "metadata": {},
     "output_type": "execute_result"
    }
   ],
   "source": [
    "#Simulate game num_games times and aggregate true count situations. \n",
    "freq_df = pd.DataFrame(freq_list,columns = ['num_decks_initial','running_count','true_count'])\n",
    "#freq_df['true_count'] = freq_df['running_count'] / freq_df['num_decks_initial']\n",
    "freq_df.head()"
   ]
  },
  {
   "cell_type": "code",
   "execution_count": 13,
   "metadata": {},
   "outputs": [
    {
     "data": {
      "text/html": [
       "<div>\n",
       "<style scoped>\n",
       "    .dataframe tbody tr th:only-of-type {\n",
       "        vertical-align: middle;\n",
       "    }\n",
       "\n",
       "    .dataframe tbody tr th {\n",
       "        vertical-align: top;\n",
       "    }\n",
       "\n",
       "    .dataframe thead th {\n",
       "        text-align: right;\n",
       "    }\n",
       "</style>\n",
       "<table border=\"1\" class=\"dataframe\">\n",
       "  <thead>\n",
       "    <tr style=\"text-align: right;\">\n",
       "      <th></th>\n",
       "      <th>true_count</th>\n",
       "      <th>frequency</th>\n",
       "    </tr>\n",
       "  </thead>\n",
       "  <tbody>\n",
       "    <tr>\n",
       "      <th>0</th>\n",
       "      <td>0.00</td>\n",
       "      <td>43231</td>\n",
       "    </tr>\n",
       "    <tr>\n",
       "      <th>1</th>\n",
       "      <td>4.00</td>\n",
       "      <td>786</td>\n",
       "    </tr>\n",
       "    <tr>\n",
       "      <th>2</th>\n",
       "      <td>-4.00</td>\n",
       "      <td>750</td>\n",
       "    </tr>\n",
       "    <tr>\n",
       "      <th>3</th>\n",
       "      <td>3.25</td>\n",
       "      <td>738</td>\n",
       "    </tr>\n",
       "    <tr>\n",
       "      <th>4</th>\n",
       "      <td>-3.25</td>\n",
       "      <td>726</td>\n",
       "    </tr>\n",
       "  </tbody>\n",
       "</table>\n",
       "</div>"
      ],
      "text/plain": [
       "   true_count  frequency\n",
       "0        0.00      43231\n",
       "1        4.00        786\n",
       "2       -4.00        750\n",
       "3        3.25        738\n",
       "4       -3.25        726"
      ]
     },
     "execution_count": 13,
     "metadata": {},
     "output_type": "execute_result"
    }
   ],
   "source": [
    "#Use value_counts to compute frequency with which these situations occur. \n",
    "freq_df = pd.DataFrame(freq_df.true_count.value_counts()).reset_index()\n",
    "freq_df.columns = ['true_count','frequency']\n",
    "freq_df.head()"
   ]
  },
  {
   "cell_type": "code",
   "execution_count": 14,
   "metadata": {},
   "outputs": [
    {
     "data": {
      "text/html": [
       "<div>\n",
       "<style scoped>\n",
       "    .dataframe tbody tr th:only-of-type {\n",
       "        vertical-align: middle;\n",
       "    }\n",
       "\n",
       "    .dataframe tbody tr th {\n",
       "        vertical-align: top;\n",
       "    }\n",
       "\n",
       "    .dataframe thead th {\n",
       "        text-align: right;\n",
       "    }\n",
       "</style>\n",
       "<table border=\"1\" class=\"dataframe\">\n",
       "  <thead>\n",
       "    <tr style=\"text-align: right;\">\n",
       "      <th></th>\n",
       "      <th>true_count</th>\n",
       "      <th>frequency</th>\n",
       "      <th>Fraction_of_hour</th>\n",
       "    </tr>\n",
       "  </thead>\n",
       "  <tbody>\n",
       "    <tr>\n",
       "      <th>0</th>\n",
       "      <td>0.00</td>\n",
       "      <td>43231</td>\n",
       "      <td>0.079548</td>\n",
       "    </tr>\n",
       "    <tr>\n",
       "      <th>1</th>\n",
       "      <td>4.00</td>\n",
       "      <td>786</td>\n",
       "      <td>0.001446</td>\n",
       "    </tr>\n",
       "    <tr>\n",
       "      <th>2</th>\n",
       "      <td>-4.00</td>\n",
       "      <td>750</td>\n",
       "      <td>0.001380</td>\n",
       "    </tr>\n",
       "    <tr>\n",
       "      <th>3</th>\n",
       "      <td>3.25</td>\n",
       "      <td>738</td>\n",
       "      <td>0.001358</td>\n",
       "    </tr>\n",
       "    <tr>\n",
       "      <th>4</th>\n",
       "      <td>-3.25</td>\n",
       "      <td>726</td>\n",
       "      <td>0.001336</td>\n",
       "    </tr>\n",
       "  </tbody>\n",
       "</table>\n",
       "</div>"
      ],
      "text/plain": [
       "   true_count  frequency  Fraction_of_hour\n",
       "0        0.00      43231          0.079548\n",
       "1        4.00        786          0.001446\n",
       "2       -4.00        750          0.001380\n",
       "3        3.25        738          0.001358\n",
       "4       -3.25        726          0.001336"
      ]
     },
     "execution_count": 14,
     "metadata": {},
     "output_type": "execute_result"
    }
   ],
   "source": [
    "#Convert to fraction of hour. \n",
    "freq_df['Fraction_of_hour'] = freq_df['frequency'] /freq_df['frequency'].sum()\n",
    "freq_df.head()"
   ]
  },
  {
   "cell_type": "code",
   "execution_count": 15,
   "metadata": {},
   "outputs": [
    {
     "data": {
      "text/html": [
       "<div>\n",
       "<style scoped>\n",
       "    .dataframe tbody tr th:only-of-type {\n",
       "        vertical-align: middle;\n",
       "    }\n",
       "\n",
       "    .dataframe tbody tr th {\n",
       "        vertical-align: top;\n",
       "    }\n",
       "\n",
       "    .dataframe thead th {\n",
       "        text-align: right;\n",
       "    }\n",
       "</style>\n",
       "<table border=\"1\" class=\"dataframe\">\n",
       "  <thead>\n",
       "    <tr style=\"text-align: right;\">\n",
       "      <th></th>\n",
       "      <th>num_decks_initial</th>\n",
       "      <th>running_count</th>\n",
       "      <th>expected_value</th>\n",
       "      <th>avg (units/hour)</th>\n",
       "      <th>true_count</th>\n",
       "    </tr>\n",
       "  </thead>\n",
       "  <tbody>\n",
       "    <tr>\n",
       "      <th>0</th>\n",
       "      <td>8</td>\n",
       "      <td>0</td>\n",
       "      <td>-16732.567137</td>\n",
       "      <td>-20.079081</td>\n",
       "      <td>0.000000</td>\n",
       "    </tr>\n",
       "    <tr>\n",
       "      <th>1</th>\n",
       "      <td>8</td>\n",
       "      <td>1</td>\n",
       "      <td>-16212.949472</td>\n",
       "      <td>-19.455539</td>\n",
       "      <td>0.125301</td>\n",
       "    </tr>\n",
       "    <tr>\n",
       "      <th>2</th>\n",
       "      <td>8</td>\n",
       "      <td>2</td>\n",
       "      <td>-15688.412393</td>\n",
       "      <td>-18.826095</td>\n",
       "      <td>0.251208</td>\n",
       "    </tr>\n",
       "    <tr>\n",
       "      <th>3</th>\n",
       "      <td>8</td>\n",
       "      <td>3</td>\n",
       "      <td>-15158.894144</td>\n",
       "      <td>-18.190673</td>\n",
       "      <td>0.377724</td>\n",
       "    </tr>\n",
       "    <tr>\n",
       "      <th>4</th>\n",
       "      <td>8</td>\n",
       "      <td>4</td>\n",
       "      <td>-14624.332007</td>\n",
       "      <td>-17.549198</td>\n",
       "      <td>0.504854</td>\n",
       "    </tr>\n",
       "  </tbody>\n",
       "</table>\n",
       "</div>"
      ],
      "text/plain": [
       "   num_decks_initial  running_count  expected_value  avg (units/hour)  \\\n",
       "0                  8              0   -16732.567137        -20.079081   \n",
       "1                  8              1   -16212.949472        -19.455539   \n",
       "2                  8              2   -15688.412393        -18.826095   \n",
       "3                  8              3   -15158.894144        -18.190673   \n",
       "4                  8              4   -14624.332007        -17.549198   \n",
       "\n",
       "   true_count  \n",
       "0    0.000000  \n",
       "1    0.125301  \n",
       "2    0.251208  \n",
       "3    0.377724  \n",
       "4    0.504854  "
      ]
     },
     "execution_count": 15,
     "metadata": {},
     "output_type": "execute_result"
    }
   ],
   "source": [
    "df.head()"
   ]
  },
  {
   "cell_type": "code",
   "execution_count": 16,
   "metadata": {},
   "outputs": [],
   "source": [
    "X = df[['true_count']]\n",
    "y = df[['avg (units/hour)']]\n",
    "\n",
    "X_train, X_test, y_train, y_test = train_test_split(X, y, test_size=0.20, random_state=42)"
   ]
  },
  {
   "cell_type": "code",
   "execution_count": 17,
   "metadata": {},
   "outputs": [],
   "source": [
    "reg = LinearRegression()\n",
    "reg.fit(X_train, y_train)\n",
    "y_pred = reg.predict(X_test).tolist()"
   ]
  },
  {
   "cell_type": "code",
   "execution_count": 18,
   "metadata": {},
   "outputs": [
    {
     "name": "stderr",
     "output_type": "stream",
     "text": [
      "/opt/anaconda3/lib/python3.9/site-packages/sklearn/ensemble/_gb.py:494: DataConversionWarning: A column-vector y was passed when a 1d array was expected. Please change the shape of y to (n_samples, ), for example using ravel().\n",
      "  y = column_or_1d(y, warn=True)\n"
     ]
    }
   ],
   "source": [
    "params = {\n",
    "    \"n_estimators\": 5000,\n",
    "    \"max_depth\": 4,\n",
    "    \"min_samples_split\": 5,\n",
    "    \"learning_rate\": 0.001,\n",
    "}\n",
    "reg = ensemble.GradientBoostingRegressor(**params)\n",
    "reg.fit(X_train, y_train)\n",
    "y_pred = reg.predict(X_test).tolist()"
   ]
  },
  {
   "cell_type": "code",
   "execution_count": 19,
   "metadata": {},
   "outputs": [
    {
     "data": {
      "image/png": "[encoded data removed]",
      "text/plain": [
       "<Figure size 640x480 with 1 Axes>"
      ]
     },
     "metadata": {},
     "output_type": "display_data"
    }
   ],
   "source": [
    "fig = plt.figure()\n",
    "ax1 = fig.add_subplot(111)\n",
    "ax1.scatter(X_test.true_count, y_pred, s=20, c='b', marker=\"s\", label='Prediction')\n",
    "ax1.scatter(X_test.true_count,y_test, s=20, c='r', marker=\"o\", label='Actual')\n",
    "ax1.tick_params(axis='both', which='major', labelsize=15)\n",
    "plt.legend(loc='upper left',fontsize=15)\n",
    "plt.ylabel('Expected Hourly Wage (Units/Hour)',fontsize=15)\n",
    "plt.xlabel('True Count',fontsize=15)\n",
    "plt.show()"
   ]
  },
  {
   "cell_type": "code",
   "execution_count": 20,
   "metadata": {},
   "outputs": [
    {
     "data": {
      "text/html": [
       "<div>\n",
       "<style scoped>\n",
       "    .dataframe tbody tr th:only-of-type {\n",
       "        vertical-align: middle;\n",
       "    }\n",
       "\n",
       "    .dataframe tbody tr th {\n",
       "        vertical-align: top;\n",
       "    }\n",
       "\n",
       "    .dataframe thead th {\n",
       "        text-align: right;\n",
       "    }\n",
       "</style>\n",
       "<table border=\"1\" class=\"dataframe\">\n",
       "  <thead>\n",
       "    <tr style=\"text-align: right;\">\n",
       "      <th></th>\n",
       "      <th>true_count</th>\n",
       "      <th>frequency</th>\n",
       "      <th>Fraction_of_hour</th>\n",
       "    </tr>\n",
       "  </thead>\n",
       "  <tbody>\n",
       "    <tr>\n",
       "      <th>0</th>\n",
       "      <td>0.000000</td>\n",
       "      <td>43231</td>\n",
       "      <td>0.079548</td>\n",
       "    </tr>\n",
       "    <tr>\n",
       "      <th>1</th>\n",
       "      <td>4.000000</td>\n",
       "      <td>786</td>\n",
       "      <td>0.001446</td>\n",
       "    </tr>\n",
       "    <tr>\n",
       "      <th>2</th>\n",
       "      <td>-4.000000</td>\n",
       "      <td>750</td>\n",
       "      <td>0.001380</td>\n",
       "    </tr>\n",
       "    <tr>\n",
       "      <th>3</th>\n",
       "      <td>3.250000</td>\n",
       "      <td>738</td>\n",
       "      <td>0.001358</td>\n",
       "    </tr>\n",
       "    <tr>\n",
       "      <th>4</th>\n",
       "      <td>-3.250000</td>\n",
       "      <td>726</td>\n",
       "      <td>0.001336</td>\n",
       "    </tr>\n",
       "    <tr>\n",
       "      <th>...</th>\n",
       "      <td>...</td>\n",
       "      <td>...</td>\n",
       "      <td>...</td>\n",
       "    </tr>\n",
       "    <tr>\n",
       "      <th>11435</th>\n",
       "      <td>2.706849</td>\n",
       "      <td>1</td>\n",
       "      <td>0.000002</td>\n",
       "    </tr>\n",
       "    <tr>\n",
       "      <th>11436</th>\n",
       "      <td>8.474074</td>\n",
       "      <td>1</td>\n",
       "      <td>0.000002</td>\n",
       "    </tr>\n",
       "    <tr>\n",
       "      <th>11437</th>\n",
       "      <td>13.438202</td>\n",
       "      <td>1</td>\n",
       "      <td>0.000002</td>\n",
       "    </tr>\n",
       "    <tr>\n",
       "      <th>11438</th>\n",
       "      <td>14.585366</td>\n",
       "      <td>1</td>\n",
       "      <td>0.000002</td>\n",
       "    </tr>\n",
       "    <tr>\n",
       "      <th>11439</th>\n",
       "      <td>8.026846</td>\n",
       "      <td>1</td>\n",
       "      <td>0.000002</td>\n",
       "    </tr>\n",
       "  </tbody>\n",
       "</table>\n",
       "<p>11440 rows × 3 columns</p>\n",
       "</div>"
      ],
      "text/plain": [
       "       true_count  frequency  Fraction_of_hour\n",
       "0        0.000000      43231          0.079548\n",
       "1        4.000000        786          0.001446\n",
       "2       -4.000000        750          0.001380\n",
       "3        3.250000        738          0.001358\n",
       "4       -3.250000        726          0.001336\n",
       "...           ...        ...               ...\n",
       "11435    2.706849          1          0.000002\n",
       "11436    8.474074          1          0.000002\n",
       "11437   13.438202          1          0.000002\n",
       "11438   14.585366          1          0.000002\n",
       "11439    8.026846          1          0.000002\n",
       "\n",
       "[11440 rows x 3 columns]"
      ]
     },
     "execution_count": 20,
     "metadata": {},
     "output_type": "execute_result"
    }
   ],
   "source": [
    "freq_df"
   ]
  },
  {
   "cell_type": "code",
   "execution_count": 21,
   "metadata": {},
   "outputs": [
    {
     "name": "stderr",
     "output_type": "stream",
     "text": [
      "/opt/anaconda3/lib/python3.9/site-packages/sklearn/base.py:450: UserWarning: X does not have valid feature names, but GradientBoostingRegressor was fitted with feature names\n",
      "  warnings.warn(\n"
     ]
    },
    {
     "data": {
      "text/html": [
       "<div>\n",
       "<style scoped>\n",
       "    .dataframe tbody tr th:only-of-type {\n",
       "        vertical-align: middle;\n",
       "    }\n",
       "\n",
       "    .dataframe tbody tr th {\n",
       "        vertical-align: top;\n",
       "    }\n",
       "\n",
       "    .dataframe thead th {\n",
       "        text-align: right;\n",
       "    }\n",
       "</style>\n",
       "<table border=\"1\" class=\"dataframe\">\n",
       "  <thead>\n",
       "    <tr style=\"text-align: right;\">\n",
       "      <th></th>\n",
       "      <th>true_count</th>\n",
       "      <th>Predicted_hourly_unit_rate</th>\n",
       "      <th>frequency</th>\n",
       "      <th>Fraction_of_hour</th>\n",
       "    </tr>\n",
       "  </thead>\n",
       "  <tbody>\n",
       "    <tr>\n",
       "      <th>0</th>\n",
       "      <td>0.00</td>\n",
       "      <td>-22.335167</td>\n",
       "      <td>43231</td>\n",
       "      <td>0.079548</td>\n",
       "    </tr>\n",
       "    <tr>\n",
       "      <th>1</th>\n",
       "      <td>4.00</td>\n",
       "      <td>-0.252067</td>\n",
       "      <td>786</td>\n",
       "      <td>0.001446</td>\n",
       "    </tr>\n",
       "    <tr>\n",
       "      <th>2</th>\n",
       "      <td>-4.00</td>\n",
       "      <td>-22.335167</td>\n",
       "      <td>750</td>\n",
       "      <td>0.001380</td>\n",
       "    </tr>\n",
       "    <tr>\n",
       "      <th>3</th>\n",
       "      <td>3.25</td>\n",
       "      <td>-5.568246</td>\n",
       "      <td>738</td>\n",
       "      <td>0.001358</td>\n",
       "    </tr>\n",
       "    <tr>\n",
       "      <th>4</th>\n",
       "      <td>-3.25</td>\n",
       "      <td>-22.335167</td>\n",
       "      <td>726</td>\n",
       "      <td>0.001336</td>\n",
       "    </tr>\n",
       "  </tbody>\n",
       "</table>\n",
       "</div>"
      ],
      "text/plain": [
       "   true_count  Predicted_hourly_unit_rate  frequency  Fraction_of_hour\n",
       "0        0.00                  -22.335167      43231          0.079548\n",
       "1        4.00                   -0.252067        786          0.001446\n",
       "2       -4.00                  -22.335167        750          0.001380\n",
       "3        3.25                   -5.568246        738          0.001358\n",
       "4       -3.25                  -22.335167        726          0.001336"
      ]
     },
     "execution_count": 21,
     "metadata": {},
     "output_type": "execute_result"
    }
   ],
   "source": [
    "#Compute the expected hourly value, weighted by positive shoes. \n",
    "true_count_list = freq_df.true_count.tolist()\n",
    "true_count_list = np.array(true_count_list).reshape(-1, 1)\n",
    "model_results = reg.predict(true_count_list).tolist()\n",
    "res = pd.DataFrame({'true_count':freq_df.true_count.tolist(),'Predicted_hourly_unit_rate':model_results})\n",
    "res = res.merge(freq_df,left_on='true_count',right_on='true_count',how='inner')\n",
    "res.head()"
   ]
  },
  {
   "cell_type": "code",
   "execution_count": 22,
   "metadata": {},
   "outputs": [
    {
     "data": {
      "text/plain": [
       "1.7315663159953179"
      ]
     },
     "execution_count": 22,
     "metadata": {},
     "output_type": "execute_result"
    }
   ],
   "source": [
    "model_res = res[res['Predicted_hourly_unit_rate']>0]\n",
    "val = np.sum(np.multiply(model_res.Predicted_hourly_unit_rate,model_res.Fraction_of_hour))\n",
    "val"
   ]
  },
  {
   "cell_type": "code",
   "execution_count": 23,
   "metadata": {},
   "outputs": [
    {
     "data": {
      "text/plain": [
       "1.674446547713445"
      ]
     },
     "execution_count": 23,
     "metadata": {},
     "output_type": "execute_result"
    }
   ],
   "source": [
    "model_res = res[res['true_count']>5]\n",
    "val = np.sum(np.multiply(model_res.Predicted_hourly_unit_rate,model_res.Fraction_of_hour))\n",
    "val"
   ]
  },
  {
   "cell_type": "code",
   "execution_count": null,
   "metadata": {},
   "outputs": [],
   "source": []
  },
  {
   "cell_type": "code",
   "execution_count": null,
   "metadata": {},
   "outputs": [],
   "source": []
  },
  {
   "cell_type": "code",
   "execution_count": 24,
   "metadata": {},
   "outputs": [
    {
     "data": {
      "text/html": [
       "<div>\n",
       "<style scoped>\n",
       "    .dataframe tbody tr th:only-of-type {\n",
       "        vertical-align: middle;\n",
       "    }\n",
       "\n",
       "    .dataframe tbody tr th {\n",
       "        vertical-align: top;\n",
       "    }\n",
       "\n",
       "    .dataframe thead th {\n",
       "        text-align: right;\n",
       "    }\n",
       "</style>\n",
       "<table border=\"1\" class=\"dataframe\">\n",
       "  <thead>\n",
       "    <tr style=\"text-align: right;\">\n",
       "      <th></th>\n",
       "      <th>Deck Pen</th>\n",
       "      <th>EV ($/hour)</th>\n",
       "    </tr>\n",
       "  </thead>\n",
       "  <tbody>\n",
       "    <tr>\n",
       "      <th>0</th>\n",
       "      <td>0.65</td>\n",
       "      <td>2.5575</td>\n",
       "    </tr>\n",
       "    <tr>\n",
       "      <th>1</th>\n",
       "      <td>0.75</td>\n",
       "      <td>6.8975</td>\n",
       "    </tr>\n",
       "    <tr>\n",
       "      <th>2</th>\n",
       "      <td>0.85</td>\n",
       "      <td>14.4650</td>\n",
       "    </tr>\n",
       "    <tr>\n",
       "      <th>3</th>\n",
       "      <td>0.95</td>\n",
       "      <td>39.9200</td>\n",
       "    </tr>\n",
       "  </tbody>\n",
       "</table>\n",
       "</div>"
      ],
      "text/plain": [
       "   Deck Pen  EV ($/hour)\n",
       "0      0.65       2.5575\n",
       "1      0.75       6.8975\n",
       "2      0.85      14.4650\n",
       "3      0.95      39.9200"
      ]
     },
     "execution_count": 24,
     "metadata": {},
     "output_type": "execute_result"
    }
   ],
   "source": [
    "deck_pen = {}\n",
    "deck_pen_list = [0.65,0.75,0.85,0.95]\n",
    "unit_ev = [0.1023,0.2759,0.5786,1.5968]\n",
    "max_bet_ev = [i * 25 for i in unit_ev]\n",
    "deck_pen['Deck Pen'] = deck_pen_list\n",
    "deck_pen['EV ($/hour)'] = max_bet_ev\n",
    "deck_pen_df = pd.DataFrame(deck_pen)\n",
    "deck_pen_df.head()"
   ]
  },
  {
   "cell_type": "code",
   "execution_count": 25,
   "metadata": {},
   "outputs": [
    {
     "data": {
      "image/png": "[encoded data removed]",
      "text/plain": [
       "<Figure size 640x480 with 1 Axes>"
      ]
     },
     "metadata": {},
     "output_type": "display_data"
    }
   ],
   "source": [
    "fig = plt.figure()\n",
    "ax1 = fig.add_subplot(111)\n",
    "ax1.plot(deck_pen_df['Deck Pen'], deck_pen_df['EV ($/hour)'], c='b', marker=\"s\")\n",
    "ax1.tick_params(axis='both', which='major', labelsize=15)\n",
    "plt.ylabel('Expected Hourly Rate (Dollars/Hour)',fontsize=15)\n",
    "plt.xlabel('Deck Penetration',fontsize=15)\n",
    "plt.title('Expected Hourly Rate vs. Deck Penetration',fontsize=15)\n",
    "plt.show()"
   ]
  },
  {
   "cell_type": "code",
   "execution_count": null,
   "metadata": {},
   "outputs": [],
   "source": []
  }
 ],
 "metadata": {
  "kernelspec": {
   "display_name": "Python 3 (ipykernel)",
   "language": "python",
   "name": "python3"
  },
  "language_info": {
   "codemirror_mode": {
    "name": "ipython",
    "version": 3
   },
   "file_extension": ".py",
   "mimetype": "text/x-python",
   "name": "python",
   "nbconvert_exporter": "python",
   "pygments_lexer": "ipython3",
   "version": "3.9.13"
  }
 },
 "nbformat": 4,
 "nbformat_minor": 4
}
