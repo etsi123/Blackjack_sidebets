{
 "cells": [
  {
   "cell_type": "markdown",
   "metadata": {},
   "source": [
    "## Code to analyze the popular Blackjack sidebet game, the Lucky Ladies. The Lucky Ladies pay out according to the pay table below\n",
    "1. Queen of hearts pair and dealer has bj (1000 to 1)\n",
    "2. Queen of hearts pair (200 to 1)\n",
    "3. Matched 20 (25 to 1)\n",
    "4. Suited 20 (10 to 1)\n",
    "5. Unsuited 20 (4 to 1)"
   ]
  },
  {
   "cell_type": "code",
   "execution_count": 1,
   "metadata": {},
   "outputs": [],
   "source": [
    "import pandas as pd\n",
    "import numpy as np\n",
    "from random import shuffle\n",
    "from blackjack_sidebet_sim import Blackjack_shoe\n",
    "import os\n",
    "import math\n",
    "import matplotlib.pyplot as plt\n",
    "from sklearn.preprocessing import MinMaxScaler\n",
    "from sklearn import datasets, ensemble\n",
    "from sklearn import ensemble\n",
    "from sklearn.metrics import mean_squared_error\n",
    "from sklearn.model_selection import train_test_split\n",
    "from sklearn.linear_model import LinearRegression"
   ]
  },
  {
   "cell_type": "code",
   "execution_count": 2,
   "metadata": {},
   "outputs": [],
   "source": [
    "cards = ['ace','king','queen','jack','ten','nine','eight','seven','six','five','four','three','two']\n",
    "suits = ['spades','hearts','clubs','diamonds']"
   ]
  },
  {
   "cell_type": "code",
   "execution_count": 3,
   "metadata": {},
   "outputs": [],
   "source": [
    "card_values = {'ace':11,'king':10,'queen':10,'jack':10,'ten':10,'nine':9,'eight':8,\\\n",
    "           'seven':7,'six':6,'five':5,'four':4,'three':3,'two':2}"
   ]
  },
  {
   "cell_type": "code",
   "execution_count": 4,
   "metadata": {},
   "outputs": [
    {
     "data": {
      "text/html": [
       "<div>\n",
       "<style scoped>\n",
       "    .dataframe tbody tr th:only-of-type {\n",
       "        vertical-align: middle;\n",
       "    }\n",
       "\n",
       "    .dataframe tbody tr th {\n",
       "        vertical-align: top;\n",
       "    }\n",
       "\n",
       "    .dataframe thead th {\n",
       "        text-align: right;\n",
       "    }\n",
       "</style>\n",
       "<table border=\"1\" class=\"dataframe\">\n",
       "  <thead>\n",
       "    <tr style=\"text-align: right;\">\n",
       "      <th></th>\n",
       "      <th>Card</th>\n",
       "      <th>Value</th>\n",
       "    </tr>\n",
       "  </thead>\n",
       "  <tbody>\n",
       "    <tr>\n",
       "      <th>0</th>\n",
       "      <td>ace_of_spades</td>\n",
       "      <td>-1</td>\n",
       "    </tr>\n",
       "    <tr>\n",
       "      <th>1</th>\n",
       "      <td>ace_of_hearts</td>\n",
       "      <td>-1</td>\n",
       "    </tr>\n",
       "    <tr>\n",
       "      <th>2</th>\n",
       "      <td>ace_of_clubs</td>\n",
       "      <td>-1</td>\n",
       "    </tr>\n",
       "    <tr>\n",
       "      <th>3</th>\n",
       "      <td>ace_of_diamonds</td>\n",
       "      <td>-1</td>\n",
       "    </tr>\n",
       "    <tr>\n",
       "      <th>4</th>\n",
       "      <td>king_of_spades</td>\n",
       "      <td>-1</td>\n",
       "    </tr>\n",
       "  </tbody>\n",
       "</table>\n",
       "</div>"
      ],
      "text/plain": [
       "              Card  Value\n",
       "0    ace_of_spades     -1\n",
       "1    ace_of_hearts     -1\n",
       "2     ace_of_clubs     -1\n",
       "3  ace_of_diamonds     -1\n",
       "4   king_of_spades     -1"
      ]
     },
     "execution_count": 4,
     "metadata": {},
     "output_type": "execute_result"
    }
   ],
   "source": [
    "counting_df = pd.read_csv(os.getcwd()+'/counting_systems/high_low_blackjack.csv').drop(['Unnamed: 0'],axis=1)\n",
    "counting_df.head()"
   ]
  },
  {
   "cell_type": "code",
   "execution_count": 5,
   "metadata": {},
   "outputs": [],
   "source": [
    "counting_rules = dict(zip(counting_df.Card, counting_df.Value))\n",
    "small_cards = counting_df[counting_df['Value']>0].Card.tolist()"
   ]
  },
  {
   "cell_type": "code",
   "execution_count": 6,
   "metadata": {},
   "outputs": [],
   "source": [
    "run_sims_flag = False\n",
    "num_sims = 100000\n",
    "cost_to_play = 5\n",
    "avg_rt = num_sims*30/3600 #assume 60 seconds/hand in real life. "
   ]
  },
  {
   "cell_type": "code",
   "execution_count": 7,
   "metadata": {},
   "outputs": [],
   "source": [
    "if run_sims_flag == True: \n",
    "    num_decks_list = [8,7,6,5,4,3,2,1]\n",
    "    matrix = []\n",
    "    for num_decks in num_decks_list: \n",
    "        data = []\n",
    "        expectation = -1*num_sims*cost_to_play\n",
    "        for running_count in range(4*5*num_decks):  \n",
    "            shoe = Blackjack_shoe(num_decks_remaining=num_decks,running_count=running_count,\\\n",
    "                            counting_rules=counting_rules,small_cards=small_cards,win_counter=0)        \n",
    "            for j in range(num_sims): \n",
    "                shoe.create_shoe()\n",
    "                shoe.establish_count()\n",
    "                shoe.evaluate_lucky_ladies(card_values=card_values)\n",
    "            shoe.summarize_money_won()\n",
    "            money_won,true_count = shoe.get_money_won()\n",
    "            data = [num_decks,running_count,money_won,true_count]\n",
    "            matrix.append(data)\n",
    "    df = pd.DataFrame(matrix,columns = ['num_decks_remaining','running_count','expected_value','true_count'])\n",
    "    df.to_csv(os.getcwd()+'/Results/lucky_ladies_sim_results.csv')\n",
    "    df.head()"
   ]
  },
  {
   "cell_type": "code",
   "execution_count": 8,
   "metadata": {},
   "outputs": [
    {
     "data": {
      "text/html": [
       "<div>\n",
       "<style scoped>\n",
       "    .dataframe tbody tr th:only-of-type {\n",
       "        vertical-align: middle;\n",
       "    }\n",
       "\n",
       "    .dataframe tbody tr th {\n",
       "        vertical-align: top;\n",
       "    }\n",
       "\n",
       "    .dataframe thead th {\n",
       "        text-align: right;\n",
       "    }\n",
       "</style>\n",
       "<table border=\"1\" class=\"dataframe\">\n",
       "  <thead>\n",
       "    <tr style=\"text-align: right;\">\n",
       "      <th></th>\n",
       "      <th>num_decks_remaining</th>\n",
       "      <th>running_count</th>\n",
       "      <th>expected_value</th>\n",
       "      <th>true_count</th>\n",
       "      <th>avg (dollars/hour)</th>\n",
       "    </tr>\n",
       "  </thead>\n",
       "  <tbody>\n",
       "    <tr>\n",
       "      <th>0</th>\n",
       "      <td>8</td>\n",
       "      <td>0</td>\n",
       "      <td>-89320</td>\n",
       "      <td>0.000000</td>\n",
       "      <td>-107.184</td>\n",
       "    </tr>\n",
       "    <tr>\n",
       "      <th>1</th>\n",
       "      <td>8</td>\n",
       "      <td>1</td>\n",
       "      <td>-71495</td>\n",
       "      <td>0.125301</td>\n",
       "      <td>-85.794</td>\n",
       "    </tr>\n",
       "    <tr>\n",
       "      <th>2</th>\n",
       "      <td>8</td>\n",
       "      <td>2</td>\n",
       "      <td>-81780</td>\n",
       "      <td>0.251208</td>\n",
       "      <td>-98.136</td>\n",
       "    </tr>\n",
       "    <tr>\n",
       "      <th>3</th>\n",
       "      <td>8</td>\n",
       "      <td>3</td>\n",
       "      <td>-72615</td>\n",
       "      <td>0.377724</td>\n",
       "      <td>-87.138</td>\n",
       "    </tr>\n",
       "    <tr>\n",
       "      <th>4</th>\n",
       "      <td>8</td>\n",
       "      <td>4</td>\n",
       "      <td>-75360</td>\n",
       "      <td>0.504854</td>\n",
       "      <td>-90.432</td>\n",
       "    </tr>\n",
       "  </tbody>\n",
       "</table>\n",
       "</div>"
      ],
      "text/plain": [
       "   num_decks_remaining  running_count  expected_value  true_count  \\\n",
       "0                    8              0          -89320    0.000000   \n",
       "1                    8              1          -71495    0.125301   \n",
       "2                    8              2          -81780    0.251208   \n",
       "3                    8              3          -72615    0.377724   \n",
       "4                    8              4          -75360    0.504854   \n",
       "\n",
       "   avg (dollars/hour)  \n",
       "0            -107.184  \n",
       "1             -85.794  \n",
       "2             -98.136  \n",
       "3             -87.138  \n",
       "4             -90.432  "
      ]
     },
     "execution_count": 8,
     "metadata": {},
     "output_type": "execute_result"
    }
   ],
   "source": [
    "df = pd.read_csv(os.getcwd()+'/Results/lucky_ladies_sim_results.csv').drop(['Unnamed: 0'],axis=1)\n",
    "df = df[df['num_decks_remaining']!=1]\n",
    "df['avg (dollars/hour)'] =  df['expected_value']/avg_rt\n",
    "df.head()"
   ]
  },
  {
   "cell_type": "code",
   "execution_count": 9,
   "metadata": {},
   "outputs": [
    {
     "data": {
      "image/png": "[encoded data removed]",
      "text/plain": [
       "<Figure size 432x288 with 1 Axes>"
      ]
     },
     "metadata": {
      "needs_background": "light"
     },
     "output_type": "display_data"
    }
   ],
   "source": [
    "fig = plt.figure()\n",
    "ax1 = fig.add_subplot(111)\n",
    "ax1.scatter(df['true_count'], df['expected_value'], s=20, c='b', marker=\"s\")\n",
    "ax1.tick_params(axis='both', which='major', labelsize=15)\n",
    "plt.ylabel('Expected Value of Lucky Ladies ($)',fontsize=15)\n",
    "plt.xlabel('True Count',fontsize=15)\n",
    "plt.title('Expected Value vs True Count',fontsize=15)\n",
    "plt.show()"
   ]
  },
  {
   "cell_type": "markdown",
   "metadata": {},
   "source": [
    "## This analysis is perfect if we are constantly playing the game at these conditions. We must multiply the expected value by the frequency with which these conditions occur."
   ]
  },
  {
   "cell_type": "code",
   "execution_count": 10,
   "metadata": {},
   "outputs": [],
   "source": [
    "num_decks=6\n",
    "running_count = 0\n",
    "freq_list = []\n",
    "num_sims = 1000\n",
    "time_to_finish_all_shoes = 20*num_sims / 60 # (in hours)\n",
    "for i in range(0,num_sims):\n",
    "    shoe = Blackjack_shoe(num_decks_remaining=num_decks,running_count=running_count,\\\n",
    "                counting_rules=counting_rules,small_cards=small_cards,win_counter=0)  \n",
    "    shoe.create_shoe()\n",
    "    freq_list = freq_list + shoe.simulate_blackjack_shoe(0.95)"
   ]
  },
  {
   "cell_type": "code",
   "execution_count": 11,
   "metadata": {},
   "outputs": [
    {
     "data": {
      "text/html": [
       "<div>\n",
       "<style scoped>\n",
       "    .dataframe tbody tr th:only-of-type {\n",
       "        vertical-align: middle;\n",
       "    }\n",
       "\n",
       "    .dataframe tbody tr th {\n",
       "        vertical-align: top;\n",
       "    }\n",
       "\n",
       "    .dataframe thead th {\n",
       "        text-align: right;\n",
       "    }\n",
       "</style>\n",
       "<table border=\"1\" class=\"dataframe\">\n",
       "  <thead>\n",
       "    <tr style=\"text-align: right;\">\n",
       "      <th></th>\n",
       "      <th>num_decks_remaining</th>\n",
       "      <th>running_count</th>\n",
       "      <th>true_count</th>\n",
       "    </tr>\n",
       "  </thead>\n",
       "  <tbody>\n",
       "    <tr>\n",
       "      <th>0</th>\n",
       "      <td>6</td>\n",
       "      <td>0</td>\n",
       "      <td>0.000000</td>\n",
       "    </tr>\n",
       "    <tr>\n",
       "      <th>1</th>\n",
       "      <td>6</td>\n",
       "      <td>-2</td>\n",
       "      <td>-0.333333</td>\n",
       "    </tr>\n",
       "    <tr>\n",
       "      <th>2</th>\n",
       "      <td>6</td>\n",
       "      <td>-7</td>\n",
       "      <td>-1.166667</td>\n",
       "    </tr>\n",
       "    <tr>\n",
       "      <th>3</th>\n",
       "      <td>6</td>\n",
       "      <td>-5</td>\n",
       "      <td>-0.833333</td>\n",
       "    </tr>\n",
       "    <tr>\n",
       "      <th>4</th>\n",
       "      <td>6</td>\n",
       "      <td>-6</td>\n",
       "      <td>-1.000000</td>\n",
       "    </tr>\n",
       "  </tbody>\n",
       "</table>\n",
       "</div>"
      ],
      "text/plain": [
       "   num_decks_remaining  running_count  true_count\n",
       "0                    6              0    0.000000\n",
       "1                    6             -2   -0.333333\n",
       "2                    6             -7   -1.166667\n",
       "3                    6             -5   -0.833333\n",
       "4                    6             -6   -1.000000"
      ]
     },
     "execution_count": 11,
     "metadata": {},
     "output_type": "execute_result"
    }
   ],
   "source": [
    "#Simulate game num_sims times and aggregate true count situations. \n",
    "freq_df = pd.DataFrame(freq_list,columns = ['num_decks_remaining','running_count'])\n",
    "freq_df['true_count'] = freq_df['running_count'] / freq_df['num_decks_remaining']\n",
    "freq_df.head()"
   ]
  },
  {
   "cell_type": "code",
   "execution_count": 12,
   "metadata": {},
   "outputs": [
    {
     "data": {
      "text/html": [
       "<div>\n",
       "<style scoped>\n",
       "    .dataframe tbody tr th:only-of-type {\n",
       "        vertical-align: middle;\n",
       "    }\n",
       "\n",
       "    .dataframe tbody tr th {\n",
       "        vertical-align: top;\n",
       "    }\n",
       "\n",
       "    .dataframe thead th {\n",
       "        text-align: right;\n",
       "    }\n",
       "</style>\n",
       "<table border=\"1\" class=\"dataframe\">\n",
       "  <thead>\n",
       "    <tr style=\"text-align: right;\">\n",
       "      <th></th>\n",
       "      <th>true_count</th>\n",
       "      <th>frequency</th>\n",
       "    </tr>\n",
       "  </thead>\n",
       "  <tbody>\n",
       "    <tr>\n",
       "      <th>0</th>\n",
       "      <td>0.0</td>\n",
       "      <td>1979</td>\n",
       "    </tr>\n",
       "    <tr>\n",
       "      <th>1</th>\n",
       "      <td>-1.0</td>\n",
       "      <td>1551</td>\n",
       "    </tr>\n",
       "    <tr>\n",
       "      <th>2</th>\n",
       "      <td>1.0</td>\n",
       "      <td>1545</td>\n",
       "    </tr>\n",
       "    <tr>\n",
       "      <th>3</th>\n",
       "      <td>-2.0</td>\n",
       "      <td>1124</td>\n",
       "    </tr>\n",
       "    <tr>\n",
       "      <th>4</th>\n",
       "      <td>2.0</td>\n",
       "      <td>1116</td>\n",
       "    </tr>\n",
       "  </tbody>\n",
       "</table>\n",
       "</div>"
      ],
      "text/plain": [
       "   true_count  frequency\n",
       "0         0.0       1979\n",
       "1        -1.0       1551\n",
       "2         1.0       1545\n",
       "3        -2.0       1124\n",
       "4         2.0       1116"
      ]
     },
     "execution_count": 12,
     "metadata": {},
     "output_type": "execute_result"
    }
   ],
   "source": [
    "#Use value_counts to compute frequency with which these situations occur. \n",
    "freq_df = pd.DataFrame(freq_df.true_count.value_counts()).reset_index()\n",
    "freq_df.columns = ['true_count','frequency']\n",
    "freq_df.head()"
   ]
  },
  {
   "cell_type": "code",
   "execution_count": 13,
   "metadata": {},
   "outputs": [
    {
     "data": {
      "text/html": [
       "<div>\n",
       "<style scoped>\n",
       "    .dataframe tbody tr th:only-of-type {\n",
       "        vertical-align: middle;\n",
       "    }\n",
       "\n",
       "    .dataframe tbody tr th {\n",
       "        vertical-align: top;\n",
       "    }\n",
       "\n",
       "    .dataframe thead th {\n",
       "        text-align: right;\n",
       "    }\n",
       "</style>\n",
       "<table border=\"1\" class=\"dataframe\">\n",
       "  <thead>\n",
       "    <tr style=\"text-align: right;\">\n",
       "      <th></th>\n",
       "      <th>true_count</th>\n",
       "      <th>frequency</th>\n",
       "      <th>Fraction_of_hour</th>\n",
       "    </tr>\n",
       "  </thead>\n",
       "  <tbody>\n",
       "    <tr>\n",
       "      <th>0</th>\n",
       "      <td>0.0</td>\n",
       "      <td>1979</td>\n",
       "      <td>0.065967</td>\n",
       "    </tr>\n",
       "    <tr>\n",
       "      <th>1</th>\n",
       "      <td>-1.0</td>\n",
       "      <td>1551</td>\n",
       "      <td>0.051700</td>\n",
       "    </tr>\n",
       "    <tr>\n",
       "      <th>2</th>\n",
       "      <td>1.0</td>\n",
       "      <td>1545</td>\n",
       "      <td>0.051500</td>\n",
       "    </tr>\n",
       "    <tr>\n",
       "      <th>3</th>\n",
       "      <td>-2.0</td>\n",
       "      <td>1124</td>\n",
       "      <td>0.037467</td>\n",
       "    </tr>\n",
       "    <tr>\n",
       "      <th>4</th>\n",
       "      <td>2.0</td>\n",
       "      <td>1116</td>\n",
       "      <td>0.037200</td>\n",
       "    </tr>\n",
       "  </tbody>\n",
       "</table>\n",
       "</div>"
      ],
      "text/plain": [
       "   true_count  frequency  Fraction_of_hour\n",
       "0         0.0       1979          0.065967\n",
       "1        -1.0       1551          0.051700\n",
       "2         1.0       1545          0.051500\n",
       "3        -2.0       1124          0.037467\n",
       "4         2.0       1116          0.037200"
      ]
     },
     "execution_count": 13,
     "metadata": {},
     "output_type": "execute_result"
    }
   ],
   "source": [
    "#Convert to fraction of hour. \n",
    "freq_df['Fraction_of_hour'] = freq_df['frequency'] /freq_df['frequency'].sum()\n",
    "freq_df.head()"
   ]
  },
  {
   "cell_type": "code",
   "execution_count": 14,
   "metadata": {},
   "outputs": [
    {
     "data": {
      "text/html": [
       "<div>\n",
       "<style scoped>\n",
       "    .dataframe tbody tr th:only-of-type {\n",
       "        vertical-align: middle;\n",
       "    }\n",
       "\n",
       "    .dataframe tbody tr th {\n",
       "        vertical-align: top;\n",
       "    }\n",
       "\n",
       "    .dataframe thead th {\n",
       "        text-align: right;\n",
       "    }\n",
       "</style>\n",
       "<table border=\"1\" class=\"dataframe\">\n",
       "  <thead>\n",
       "    <tr style=\"text-align: right;\">\n",
       "      <th></th>\n",
       "      <th>num_decks_remaining</th>\n",
       "      <th>running_count</th>\n",
       "      <th>expected_value</th>\n",
       "      <th>true_count</th>\n",
       "      <th>avg (dollars/hour)</th>\n",
       "    </tr>\n",
       "  </thead>\n",
       "  <tbody>\n",
       "    <tr>\n",
       "      <th>0</th>\n",
       "      <td>8</td>\n",
       "      <td>0</td>\n",
       "      <td>-89320</td>\n",
       "      <td>0.000000</td>\n",
       "      <td>-107.184</td>\n",
       "    </tr>\n",
       "    <tr>\n",
       "      <th>1</th>\n",
       "      <td>8</td>\n",
       "      <td>1</td>\n",
       "      <td>-71495</td>\n",
       "      <td>0.125301</td>\n",
       "      <td>-85.794</td>\n",
       "    </tr>\n",
       "    <tr>\n",
       "      <th>2</th>\n",
       "      <td>8</td>\n",
       "      <td>2</td>\n",
       "      <td>-81780</td>\n",
       "      <td>0.251208</td>\n",
       "      <td>-98.136</td>\n",
       "    </tr>\n",
       "    <tr>\n",
       "      <th>3</th>\n",
       "      <td>8</td>\n",
       "      <td>3</td>\n",
       "      <td>-72615</td>\n",
       "      <td>0.377724</td>\n",
       "      <td>-87.138</td>\n",
       "    </tr>\n",
       "    <tr>\n",
       "      <th>4</th>\n",
       "      <td>8</td>\n",
       "      <td>4</td>\n",
       "      <td>-75360</td>\n",
       "      <td>0.504854</td>\n",
       "      <td>-90.432</td>\n",
       "    </tr>\n",
       "  </tbody>\n",
       "</table>\n",
       "</div>"
      ],
      "text/plain": [
       "   num_decks_remaining  running_count  expected_value  true_count  \\\n",
       "0                    8              0          -89320    0.000000   \n",
       "1                    8              1          -71495    0.125301   \n",
       "2                    8              2          -81780    0.251208   \n",
       "3                    8              3          -72615    0.377724   \n",
       "4                    8              4          -75360    0.504854   \n",
       "\n",
       "   avg (dollars/hour)  \n",
       "0            -107.184  \n",
       "1             -85.794  \n",
       "2             -98.136  \n",
       "3             -87.138  \n",
       "4             -90.432  "
      ]
     },
     "execution_count": 14,
     "metadata": {},
     "output_type": "execute_result"
    }
   ],
   "source": [
    "df.head()"
   ]
  },
  {
   "cell_type": "code",
   "execution_count": 15,
   "metadata": {},
   "outputs": [
    {
     "data": {
      "image/png": "[encoded data removed]",
      "text/plain": [
       "<Figure size 432x288 with 1 Axes>"
      ]
     },
     "metadata": {
      "needs_background": "light"
     },
     "output_type": "display_data"
    }
   ],
   "source": [
    "X = df[['true_count']]\n",
    "y = df[['avg (dollars/hour)']]\n",
    "\n",
    "X_train, X_test, y_train, y_test = train_test_split(X, y, test_size=0.20, random_state=42)\n",
    "\n",
    "reg = LinearRegression().fit(X_train, y_train)\n",
    "y_pred = reg.predict(X_test).tolist()\n",
    "\n",
    "fig = plt.figure()\n",
    "ax1 = fig.add_subplot(111)\n",
    "ax1.scatter(X_test.true_count, y_pred, s=20, c='b', marker=\"s\", label='Prediction')\n",
    "ax1.scatter(X_test.true_count,y_test, s=20, c='r', marker=\"o\", label='Actual')\n",
    "ax1.tick_params(axis='both', which='major', labelsize=15)\n",
    "plt.legend(loc='upper left',fontsize=15)\n",
    "plt.ylabel('Expected Hourly wage ($/Hour)',fontsize=15)\n",
    "plt.xlabel('True Count',fontsize=15)\n",
    "plt.show()"
   ]
  },
  {
   "cell_type": "code",
   "execution_count": 16,
   "metadata": {},
   "outputs": [
    {
     "data": {
      "text/plain": [
       "1.4880384411225682"
      ]
     },
     "execution_count": 16,
     "metadata": {},
     "output_type": "execute_result"
    }
   ],
   "source": [
    "#Compute the expected hourly value, weighted by positive shoes. \n",
    "true_count_list = freq_df.true_count.tolist()\n",
    "true_count_list = np.array(true_count_list).reshape(-1, 1)\n",
    "model_results = reg.predict(true_count_list).tolist()\n",
    "res = pd.DataFrame({'true_count':freq_df.true_count.tolist(),'Predicted_hourly_rate':[item for sublist in model_results for item in sublist]})\n",
    "res = res.merge(freq_df,left_on='true_count',right_on='true_count',how='inner')\n",
    "res = res[res['Predicted_hourly_rate']>0]\n",
    "val = np.sum(np.multiply(res.Predicted_hourly_rate,res.Fraction_of_hour))\n",
    "val"
   ]
  },
  {
   "cell_type": "markdown",
   "metadata": {},
   "source": [
    "## We will only be making about $2/hour under these conditions... Not a great bet. Lucky Ladies requires very high true count to become a profitable bet (TC>5.5 according to this data), something that only occurs ~2% of the time. "
   ]
  },
  {
   "cell_type": "code",
   "execution_count": null,
   "metadata": {},
   "outputs": [],
   "source": []
  }
 ],
 "metadata": {
  "kernelspec": {
   "display_name": "Python 3",
   "language": "python",
   "name": "python3"
  },
  "language_info": {
   "codemirror_mode": {
    "name": "ipython",
    "version": 3
   },
   "file_extension": ".py",
   "mimetype": "text/x-python",
   "name": "python",
   "nbconvert_exporter": "python",
   "pygments_lexer": "ipython3",
   "version": "3.8.5"
  }
 },
 "nbformat": 4,
 "nbformat_minor": 4
}
