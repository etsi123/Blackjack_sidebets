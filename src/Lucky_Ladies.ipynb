{
 "cells": [
  {
   "cell_type": "markdown",
   "metadata": {},
   "source": [
    "## Code to analyze the popular Blackjack sidebet game, the Lucky Ladies. The Lucky Ladies pay out according to the pay table below\n",
    "1. Queen of hearts pair and dealer has bj (1000 to 1)\n",
    "2. Queen of hearts pair (200 to 1)\n",
    "3. Matched 20 (25 to 1)\n",
    "4. Suited 20 (10 to 1)\n",
    "5. Unsuited 20 (4 to 1)"
   ]
  },
  {
   "cell_type": "code",
   "execution_count": 1,
   "metadata": {},
   "outputs": [],
   "source": [
    "import pandas as pd\n",
    "import numpy as np\n",
    "from random import shuffle\n",
    "from blackjack_sidebet_sim import Blackjack_shoe\n",
    "import os\n",
    "import math\n",
    "import matplotlib.pyplot as plt\n",
    "from sklearn.preprocessing import MinMaxScaler\n",
    "from sklearn import datasets, ensemble\n",
    "from sklearn import ensemble\n",
    "from sklearn.metrics import mean_squared_error\n",
    "from sklearn.model_selection import train_test_split\n",
    "from sklearn.linear_model import LinearRegression\n",
    "from math import comb\n",
    "import operator"
   ]
  },
  {
   "cell_type": "code",
   "execution_count": 2,
   "metadata": {},
   "outputs": [],
   "source": [
    "def analytical_lucky_ladies(num_decks_list,ev_list,num_games):\n",
    "    matrix = []\n",
    "    for num_decks in num_decks_list: \n",
    "        for running_count in range(4*5*num_decks): \n",
    "            q_hearts_with_bj = comb(num_decks,2)*comb(num_decks*4,1)*comb(num_decks*16-2,1)  \n",
    "            q_hearts_no_bj = comb(num_decks,2)*comb(52*num_decks-2-running_count,2) - q_hearts_with_bj\n",
    "            matched_20 = comb(15,1) * comb(num_decks,2) * comb(num_decks*52-2-running_count,2)\n",
    "            suited_20 = 7*comb(4,1)*comb(num_decks,1)*comb(num_decks,1)*comb(num_decks*52-2,2)\n",
    "            unsuited_20 = 18*comb(4,2)*comb(num_decks,1)*comb(num_decks,1)*comb(num_decks*52-2-running_count,2)\n",
    "            total = comb(52*num_decks-running_count,4)*comb(4,2)\n",
    "            other = total - (q_hearts_with_bj + q_hearts_no_bj + matched_20 + suited_20 + unsuited_20)\n",
    "            sol = [q_hearts_with_bj,q_hearts_no_bj,matched_20,suited_20,unsuited_20,other]\n",
    "            norm_sol = np.divide(sol, total)\n",
    "            ev = sum(list(map(operator.mul, norm_sol, ev_list))) * num_games\n",
    "            data = [num_decks,running_count,ev]\n",
    "            matrix.append(data)\n",
    "    return matrix"
   ]
  },
  {
   "cell_type": "code",
   "execution_count": 3,
   "metadata": {},
   "outputs": [],
   "source": [
    "cards = ['ace','king','queen','jack','ten','nine','eight','seven','six','five','four','three','two']\n",
    "suits = ['spades','hearts','clubs','diamonds']"
   ]
  },
  {
   "cell_type": "code",
   "execution_count": 4,
   "metadata": {},
   "outputs": [],
   "source": [
    "card_values = {'ace':11,'king':10,'queen':10,'jack':10,'ten':10,'nine':9,'eight':8,\\\n",
    "           'seven':7,'six':6,'five':5,'four':4,'three':3,'two':2}"
   ]
  },
  {
   "cell_type": "code",
   "execution_count": 5,
   "metadata": {},
   "outputs": [
    {
     "data": {
      "text/html": [
       "<div>\n",
       "<style scoped>\n",
       "    .dataframe tbody tr th:only-of-type {\n",
       "        vertical-align: middle;\n",
       "    }\n",
       "\n",
       "    .dataframe tbody tr th {\n",
       "        vertical-align: top;\n",
       "    }\n",
       "\n",
       "    .dataframe thead th {\n",
       "        text-align: right;\n",
       "    }\n",
       "</style>\n",
       "<table border=\"1\" class=\"dataframe\">\n",
       "  <thead>\n",
       "    <tr style=\"text-align: right;\">\n",
       "      <th></th>\n",
       "      <th>Card</th>\n",
       "      <th>Value</th>\n",
       "    </tr>\n",
       "  </thead>\n",
       "  <tbody>\n",
       "    <tr>\n",
       "      <th>0</th>\n",
       "      <td>ace_of_spades</td>\n",
       "      <td>-1</td>\n",
       "    </tr>\n",
       "    <tr>\n",
       "      <th>1</th>\n",
       "      <td>ace_of_hearts</td>\n",
       "      <td>-1</td>\n",
       "    </tr>\n",
       "    <tr>\n",
       "      <th>2</th>\n",
       "      <td>ace_of_clubs</td>\n",
       "      <td>-1</td>\n",
       "    </tr>\n",
       "    <tr>\n",
       "      <th>3</th>\n",
       "      <td>ace_of_diamonds</td>\n",
       "      <td>-1</td>\n",
       "    </tr>\n",
       "    <tr>\n",
       "      <th>4</th>\n",
       "      <td>king_of_spades</td>\n",
       "      <td>-1</td>\n",
       "    </tr>\n",
       "  </tbody>\n",
       "</table>\n",
       "</div>"
      ],
      "text/plain": [
       "              Card  Value\n",
       "0    ace_of_spades     -1\n",
       "1    ace_of_hearts     -1\n",
       "2     ace_of_clubs     -1\n",
       "3  ace_of_diamonds     -1\n",
       "4   king_of_spades     -1"
      ]
     },
     "execution_count": 5,
     "metadata": {},
     "output_type": "execute_result"
    }
   ],
   "source": [
    "counting_df = pd.read_csv(os.getcwd()+'/counting_systems/high_low_blackjack.csv').drop(['Unnamed: 0'],axis=1)\n",
    "counting_df.head()"
   ]
  },
  {
   "cell_type": "code",
   "execution_count": 6,
   "metadata": {},
   "outputs": [],
   "source": [
    "counting_rules = dict(zip(counting_df.Card, counting_df.Value))\n",
    "small_cards = counting_df[counting_df['Value']>0].Card.tolist()"
   ]
  },
  {
   "cell_type": "code",
   "execution_count": 7,
   "metadata": {},
   "outputs": [],
   "source": [
    "ev_list = [1000.,200.,25.,10.,4.,-1.]\n",
    "num_decks_list = [8,7,6,5,4,3,2,1]\n",
    "matrix = []\n",
    "num_games = 100000\n",
    "cost_to_play = 1 #1 unit (min bet is $1, max is $25 at most casinos)\n",
    "avg_rt = num_games*30/3600 #assume 60 seconds/hand in real life. \n",
    "matrix = analytical_lucky_ladies(num_decks_list,ev_list,num_games)"
   ]
  },
  {
   "cell_type": "code",
   "execution_count": 8,
   "metadata": {},
   "outputs": [
    {
     "data": {
      "text/html": [
       "<div>\n",
       "<style scoped>\n",
       "    .dataframe tbody tr th:only-of-type {\n",
       "        vertical-align: middle;\n",
       "    }\n",
       "\n",
       "    .dataframe tbody tr th {\n",
       "        vertical-align: top;\n",
       "    }\n",
       "\n",
       "    .dataframe thead th {\n",
       "        text-align: right;\n",
       "    }\n",
       "</style>\n",
       "<table border=\"1\" class=\"dataframe\">\n",
       "  <thead>\n",
       "    <tr style=\"text-align: right;\">\n",
       "      <th></th>\n",
       "      <th>num_decks_initial</th>\n",
       "      <th>running_count</th>\n",
       "      <th>expected_value</th>\n",
       "      <th>avg (units/hour)</th>\n",
       "      <th>true_count</th>\n",
       "    </tr>\n",
       "  </thead>\n",
       "  <tbody>\n",
       "    <tr>\n",
       "      <th>0</th>\n",
       "      <td>8</td>\n",
       "      <td>0</td>\n",
       "      <td>-16732.567137</td>\n",
       "      <td>-20.079081</td>\n",
       "      <td>0.000000</td>\n",
       "    </tr>\n",
       "    <tr>\n",
       "      <th>1</th>\n",
       "      <td>8</td>\n",
       "      <td>1</td>\n",
       "      <td>-16212.949472</td>\n",
       "      <td>-19.455539</td>\n",
       "      <td>0.125301</td>\n",
       "    </tr>\n",
       "    <tr>\n",
       "      <th>2</th>\n",
       "      <td>8</td>\n",
       "      <td>2</td>\n",
       "      <td>-15688.412393</td>\n",
       "      <td>-18.826095</td>\n",
       "      <td>0.251208</td>\n",
       "    </tr>\n",
       "    <tr>\n",
       "      <th>3</th>\n",
       "      <td>8</td>\n",
       "      <td>3</td>\n",
       "      <td>-15158.894144</td>\n",
       "      <td>-18.190673</td>\n",
       "      <td>0.377724</td>\n",
       "    </tr>\n",
       "    <tr>\n",
       "      <th>4</th>\n",
       "      <td>8</td>\n",
       "      <td>4</td>\n",
       "      <td>-14624.332007</td>\n",
       "      <td>-17.549198</td>\n",
       "      <td>0.504854</td>\n",
       "    </tr>\n",
       "  </tbody>\n",
       "</table>\n",
       "</div>"
      ],
      "text/plain": [
       "   num_decks_initial  running_count  expected_value  avg (units/hour)  \\\n",
       "0                  8              0   -16732.567137        -20.079081   \n",
       "1                  8              1   -16212.949472        -19.455539   \n",
       "2                  8              2   -15688.412393        -18.826095   \n",
       "3                  8              3   -15158.894144        -18.190673   \n",
       "4                  8              4   -14624.332007        -17.549198   \n",
       "\n",
       "   true_count  \n",
       "0    0.000000  \n",
       "1    0.125301  \n",
       "2    0.251208  \n",
       "3    0.377724  \n",
       "4    0.504854  "
      ]
     },
     "execution_count": 8,
     "metadata": {},
     "output_type": "execute_result"
    }
   ],
   "source": [
    "df = pd.DataFrame(matrix,columns = ['num_decks_initial','running_count','expected_value'])\n",
    "df = df[df['num_decks_initial']!=1]\n",
    "df['avg (units/hour)'] =  df['expected_value']/avg_rt\n",
    "df['true_count'] = df['running_count'] / ((df['num_decks_initial']*52 - df['running_count'])/52)\n",
    "df.head()"
   ]
  },
  {
   "cell_type": "markdown",
   "metadata": {},
   "source": [
    "## This analysis is perfect if we are constantly playing the game at these conditions. We must multiply the expected value by the frequency with which these conditions occur. This will give a more accurate representation of an hourly rate. "
   ]
  },
  {
   "cell_type": "code",
   "execution_count": 9,
   "metadata": {},
   "outputs": [],
   "source": [
    "num_decks=8\n",
    "running_count = 0\n",
    "freq_list = []\n",
    "num_games = 10000\n",
    "time_to_finish_all_shoes = 20*num_games / 60 # (in hours)\n",
    "for i in range(0,num_games):\n",
    "    shoe = Blackjack_shoe(num_decks_remaining=num_decks,running_count=running_count,\\\n",
    "                counting_rules=counting_rules,small_cards=small_cards,win_counter=0)  \n",
    "    shoe.create_shoe()\n",
    "    freq_list = freq_list + shoe.simulate_blackjack_shoe(0.95)"
   ]
  },
  {
   "cell_type": "code",
   "execution_count": 10,
   "metadata": {},
   "outputs": [
    {
     "data": {
      "text/html": [
       "<div>\n",
       "<style scoped>\n",
       "    .dataframe tbody tr th:only-of-type {\n",
       "        vertical-align: middle;\n",
       "    }\n",
       "\n",
       "    .dataframe tbody tr th {\n",
       "        vertical-align: top;\n",
       "    }\n",
       "\n",
       "    .dataframe thead th {\n",
       "        text-align: right;\n",
       "    }\n",
       "</style>\n",
       "<table border=\"1\" class=\"dataframe\">\n",
       "  <thead>\n",
       "    <tr style=\"text-align: right;\">\n",
       "      <th></th>\n",
       "      <th>num_decks_initial</th>\n",
       "      <th>running_count</th>\n",
       "      <th>true_count</th>\n",
       "    </tr>\n",
       "  </thead>\n",
       "  <tbody>\n",
       "    <tr>\n",
       "      <th>0</th>\n",
       "      <td>8.000000</td>\n",
       "      <td>0</td>\n",
       "      <td>0.000000</td>\n",
       "    </tr>\n",
       "    <tr>\n",
       "      <th>1</th>\n",
       "      <td>7.807692</td>\n",
       "      <td>3</td>\n",
       "      <td>0.384236</td>\n",
       "    </tr>\n",
       "    <tr>\n",
       "      <th>2</th>\n",
       "      <td>7.615385</td>\n",
       "      <td>8</td>\n",
       "      <td>1.050505</td>\n",
       "    </tr>\n",
       "    <tr>\n",
       "      <th>3</th>\n",
       "      <td>7.423077</td>\n",
       "      <td>10</td>\n",
       "      <td>1.347150</td>\n",
       "    </tr>\n",
       "    <tr>\n",
       "      <th>4</th>\n",
       "      <td>7.230769</td>\n",
       "      <td>9</td>\n",
       "      <td>1.244681</td>\n",
       "    </tr>\n",
       "  </tbody>\n",
       "</table>\n",
       "</div>"
      ],
      "text/plain": [
       "   num_decks_initial  running_count  true_count\n",
       "0           8.000000              0    0.000000\n",
       "1           7.807692              3    0.384236\n",
       "2           7.615385              8    1.050505\n",
       "3           7.423077             10    1.347150\n",
       "4           7.230769              9    1.244681"
      ]
     },
     "execution_count": 10,
     "metadata": {},
     "output_type": "execute_result"
    }
   ],
   "source": [
    "#Simulate game num_games times and aggregate true count situations. \n",
    "freq_df = pd.DataFrame(freq_list,columns = ['num_decks_initial','running_count','true_count'])\n",
    "#freq_df['true_count'] = freq_df['running_count'] / freq_df['num_decks_initial']\n",
    "freq_df.head()"
   ]
  },
  {
   "cell_type": "code",
   "execution_count": 11,
   "metadata": {},
   "outputs": [
    {
     "data": {
      "text/html": [
       "<div>\n",
       "<style scoped>\n",
       "    .dataframe tbody tr th:only-of-type {\n",
       "        vertical-align: middle;\n",
       "    }\n",
       "\n",
       "    .dataframe tbody tr th {\n",
       "        vertical-align: top;\n",
       "    }\n",
       "\n",
       "    .dataframe thead th {\n",
       "        text-align: right;\n",
       "    }\n",
       "</style>\n",
       "<table border=\"1\" class=\"dataframe\">\n",
       "  <thead>\n",
       "    <tr style=\"text-align: right;\">\n",
       "      <th></th>\n",
       "      <th>true_count</th>\n",
       "      <th>frequency</th>\n",
       "    </tr>\n",
       "  </thead>\n",
       "  <tbody>\n",
       "    <tr>\n",
       "      <th>0</th>\n",
       "      <td>0.00</td>\n",
       "      <td>34086</td>\n",
       "    </tr>\n",
       "    <tr>\n",
       "      <th>1</th>\n",
       "      <td>3.25</td>\n",
       "      <td>1738</td>\n",
       "    </tr>\n",
       "    <tr>\n",
       "      <th>2</th>\n",
       "      <td>-3.25</td>\n",
       "      <td>1717</td>\n",
       "    </tr>\n",
       "    <tr>\n",
       "      <th>3</th>\n",
       "      <td>6.50</td>\n",
       "      <td>1587</td>\n",
       "    </tr>\n",
       "    <tr>\n",
       "      <th>4</th>\n",
       "      <td>-6.50</td>\n",
       "      <td>1561</td>\n",
       "    </tr>\n",
       "  </tbody>\n",
       "</table>\n",
       "</div>"
      ],
      "text/plain": [
       "   true_count  frequency\n",
       "0        0.00      34086\n",
       "1        3.25       1738\n",
       "2       -3.25       1717\n",
       "3        6.50       1587\n",
       "4       -6.50       1561"
      ]
     },
     "execution_count": 11,
     "metadata": {},
     "output_type": "execute_result"
    }
   ],
   "source": [
    "#Use value_counts to compute frequency with which these situations occur. \n",
    "freq_df = pd.DataFrame(freq_df.true_count.value_counts()).reset_index()\n",
    "freq_df.columns = ['true_count','frequency']\n",
    "freq_df.head()"
   ]
  },
  {
   "cell_type": "code",
   "execution_count": 12,
   "metadata": {},
   "outputs": [
    {
     "data": {
      "text/html": [
       "<div>\n",
       "<style scoped>\n",
       "    .dataframe tbody tr th:only-of-type {\n",
       "        vertical-align: middle;\n",
       "    }\n",
       "\n",
       "    .dataframe tbody tr th {\n",
       "        vertical-align: top;\n",
       "    }\n",
       "\n",
       "    .dataframe thead th {\n",
       "        text-align: right;\n",
       "    }\n",
       "</style>\n",
       "<table border=\"1\" class=\"dataframe\">\n",
       "  <thead>\n",
       "    <tr style=\"text-align: right;\">\n",
       "      <th></th>\n",
       "      <th>true_count</th>\n",
       "      <th>frequency</th>\n",
       "      <th>Fraction_of_hour</th>\n",
       "    </tr>\n",
       "  </thead>\n",
       "  <tbody>\n",
       "    <tr>\n",
       "      <th>0</th>\n",
       "      <td>0.00</td>\n",
       "      <td>34086</td>\n",
       "      <td>0.083137</td>\n",
       "    </tr>\n",
       "    <tr>\n",
       "      <th>1</th>\n",
       "      <td>3.25</td>\n",
       "      <td>1738</td>\n",
       "      <td>0.004239</td>\n",
       "    </tr>\n",
       "    <tr>\n",
       "      <th>2</th>\n",
       "      <td>-3.25</td>\n",
       "      <td>1717</td>\n",
       "      <td>0.004188</td>\n",
       "    </tr>\n",
       "    <tr>\n",
       "      <th>3</th>\n",
       "      <td>6.50</td>\n",
       "      <td>1587</td>\n",
       "      <td>0.003871</td>\n",
       "    </tr>\n",
       "    <tr>\n",
       "      <th>4</th>\n",
       "      <td>-6.50</td>\n",
       "      <td>1561</td>\n",
       "      <td>0.003807</td>\n",
       "    </tr>\n",
       "  </tbody>\n",
       "</table>\n",
       "</div>"
      ],
      "text/plain": [
       "   true_count  frequency  Fraction_of_hour\n",
       "0        0.00      34086          0.083137\n",
       "1        3.25       1738          0.004239\n",
       "2       -3.25       1717          0.004188\n",
       "3        6.50       1587          0.003871\n",
       "4       -6.50       1561          0.003807"
      ]
     },
     "execution_count": 12,
     "metadata": {},
     "output_type": "execute_result"
    }
   ],
   "source": [
    "#Convert to fraction of hour. \n",
    "freq_df['Fraction_of_hour'] = freq_df['frequency'] /freq_df['frequency'].sum()\n",
    "freq_df.head()"
   ]
  },
  {
   "cell_type": "code",
   "execution_count": 13,
   "metadata": {},
   "outputs": [
    {
     "data": {
      "text/html": [
       "<div>\n",
       "<style scoped>\n",
       "    .dataframe tbody tr th:only-of-type {\n",
       "        vertical-align: middle;\n",
       "    }\n",
       "\n",
       "    .dataframe tbody tr th {\n",
       "        vertical-align: top;\n",
       "    }\n",
       "\n",
       "    .dataframe thead th {\n",
       "        text-align: right;\n",
       "    }\n",
       "</style>\n",
       "<table border=\"1\" class=\"dataframe\">\n",
       "  <thead>\n",
       "    <tr style=\"text-align: right;\">\n",
       "      <th></th>\n",
       "      <th>num_decks_initial</th>\n",
       "      <th>running_count</th>\n",
       "      <th>expected_value</th>\n",
       "      <th>avg (units/hour)</th>\n",
       "      <th>true_count</th>\n",
       "    </tr>\n",
       "  </thead>\n",
       "  <tbody>\n",
       "    <tr>\n",
       "      <th>0</th>\n",
       "      <td>8</td>\n",
       "      <td>0</td>\n",
       "      <td>-16732.567137</td>\n",
       "      <td>-20.079081</td>\n",
       "      <td>0.000000</td>\n",
       "    </tr>\n",
       "    <tr>\n",
       "      <th>1</th>\n",
       "      <td>8</td>\n",
       "      <td>1</td>\n",
       "      <td>-16212.949472</td>\n",
       "      <td>-19.455539</td>\n",
       "      <td>0.125301</td>\n",
       "    </tr>\n",
       "    <tr>\n",
       "      <th>2</th>\n",
       "      <td>8</td>\n",
       "      <td>2</td>\n",
       "      <td>-15688.412393</td>\n",
       "      <td>-18.826095</td>\n",
       "      <td>0.251208</td>\n",
       "    </tr>\n",
       "    <tr>\n",
       "      <th>3</th>\n",
       "      <td>8</td>\n",
       "      <td>3</td>\n",
       "      <td>-15158.894144</td>\n",
       "      <td>-18.190673</td>\n",
       "      <td>0.377724</td>\n",
       "    </tr>\n",
       "    <tr>\n",
       "      <th>4</th>\n",
       "      <td>8</td>\n",
       "      <td>4</td>\n",
       "      <td>-14624.332007</td>\n",
       "      <td>-17.549198</td>\n",
       "      <td>0.504854</td>\n",
       "    </tr>\n",
       "  </tbody>\n",
       "</table>\n",
       "</div>"
      ],
      "text/plain": [
       "   num_decks_initial  running_count  expected_value  avg (units/hour)  \\\n",
       "0                  8              0   -16732.567137        -20.079081   \n",
       "1                  8              1   -16212.949472        -19.455539   \n",
       "2                  8              2   -15688.412393        -18.826095   \n",
       "3                  8              3   -15158.894144        -18.190673   \n",
       "4                  8              4   -14624.332007        -17.549198   \n",
       "\n",
       "   true_count  \n",
       "0    0.000000  \n",
       "1    0.125301  \n",
       "2    0.251208  \n",
       "3    0.377724  \n",
       "4    0.504854  "
      ]
     },
     "execution_count": 13,
     "metadata": {},
     "output_type": "execute_result"
    }
   ],
   "source": [
    "df.head()"
   ]
  },
  {
   "cell_type": "code",
   "execution_count": 14,
   "metadata": {},
   "outputs": [],
   "source": [
    "X = df[['true_count']]\n",
    "y = df[['avg (units/hour)']]\n",
    "\n",
    "X_train, X_test, y_train, y_test = train_test_split(X, y, test_size=0.20, random_state=42)"
   ]
  },
  {
   "cell_type": "code",
   "execution_count": 15,
   "metadata": {},
   "outputs": [],
   "source": [
    "reg = LinearRegression()\n",
    "reg.fit(X_train, y_train)\n",
    "y_pred = reg.predict(X_test).tolist()"
   ]
  },
  {
   "cell_type": "code",
   "execution_count": 16,
   "metadata": {},
   "outputs": [
    {
     "data": {
      "image/png": "[encoded data removed]",
      "text/plain": [
       "<Figure size 640x480 with 1 Axes>"
      ]
     },
     "metadata": {},
     "output_type": "display_data"
    }
   ],
   "source": [
    "fig = plt.figure()\n",
    "ax1 = fig.add_subplot(111)\n",
    "ax1.scatter(X_test.true_count, y_pred, s=20, c='b', marker=\"s\", label='Prediction')\n",
    "ax1.scatter(X_test.true_count,y_test, s=20, c='r', marker=\"o\", label='Actual')\n",
    "ax1.tick_params(axis='both', which='major', labelsize=15)\n",
    "plt.legend(loc='upper left',fontsize=15)\n",
    "plt.ylabel('Expected Hourly Wage (Units/Hour)',fontsize=15)\n",
    "plt.xlabel('True Count',fontsize=15)\n",
    "plt.show()"
   ]
  },
  {
   "cell_type": "code",
   "execution_count": 17,
   "metadata": {},
   "outputs": [
    {
     "name": "stderr",
     "output_type": "stream",
     "text": [
      "/opt/anaconda3/lib/python3.9/site-packages/sklearn/base.py:450: UserWarning: X does not have valid feature names, but LinearRegression was fitted with feature names\n",
      "  warnings.warn(\n"
     ]
    },
    {
     "data": {
      "text/html": [
       "<div>\n",
       "<style scoped>\n",
       "    .dataframe tbody tr th:only-of-type {\n",
       "        vertical-align: middle;\n",
       "    }\n",
       "\n",
       "    .dataframe tbody tr th {\n",
       "        vertical-align: top;\n",
       "    }\n",
       "\n",
       "    .dataframe thead th {\n",
       "        text-align: right;\n",
       "    }\n",
       "</style>\n",
       "<table border=\"1\" class=\"dataframe\">\n",
       "  <thead>\n",
       "    <tr style=\"text-align: right;\">\n",
       "      <th></th>\n",
       "      <th>true_count</th>\n",
       "      <th>Predicted_hourly_unit_rate</th>\n",
       "      <th>frequency</th>\n",
       "      <th>Fraction_of_hour</th>\n",
       "    </tr>\n",
       "  </thead>\n",
       "  <tbody>\n",
       "    <tr>\n",
       "      <th>0</th>\n",
       "      <td>0.00</td>\n",
       "      <td>-39.442231</td>\n",
       "      <td>34086</td>\n",
       "      <td>0.083137</td>\n",
       "    </tr>\n",
       "    <tr>\n",
       "      <th>1</th>\n",
       "      <td>3.25</td>\n",
       "      <td>-12.103249</td>\n",
       "      <td>1738</td>\n",
       "      <td>0.004239</td>\n",
       "    </tr>\n",
       "    <tr>\n",
       "      <th>2</th>\n",
       "      <td>-3.25</td>\n",
       "      <td>-66.781212</td>\n",
       "      <td>1717</td>\n",
       "      <td>0.004188</td>\n",
       "    </tr>\n",
       "    <tr>\n",
       "      <th>3</th>\n",
       "      <td>6.50</td>\n",
       "      <td>15.235733</td>\n",
       "      <td>1587</td>\n",
       "      <td>0.003871</td>\n",
       "    </tr>\n",
       "    <tr>\n",
       "      <th>4</th>\n",
       "      <td>-6.50</td>\n",
       "      <td>-94.120194</td>\n",
       "      <td>1561</td>\n",
       "      <td>0.003807</td>\n",
       "    </tr>\n",
       "  </tbody>\n",
       "</table>\n",
       "</div>"
      ],
      "text/plain": [
       "   true_count  Predicted_hourly_unit_rate  frequency  Fraction_of_hour\n",
       "0        0.00                  -39.442231      34086          0.083137\n",
       "1        3.25                  -12.103249       1738          0.004239\n",
       "2       -3.25                  -66.781212       1717          0.004188\n",
       "3        6.50                   15.235733       1587          0.003871\n",
       "4       -6.50                  -94.120194       1561          0.003807"
      ]
     },
     "execution_count": 17,
     "metadata": {},
     "output_type": "execute_result"
    }
   ],
   "source": [
    "#Compute the expected hourly value, weighted by positive shoes. \n",
    "true_count_list = freq_df.true_count.tolist()\n",
    "true_count_list = np.array(true_count_list).reshape(-1, 1)\n",
    "model_results = reg.predict(true_count_list).tolist()\n",
    "res = pd.DataFrame({'true_count':freq_df.true_count.tolist(),'Predicted_hourly_unit_rate':[item for sublist in model_results for item in sublist]})\n",
    "res = res.merge(freq_df,left_on='true_count',right_on='true_count',how='inner')\n",
    "res.head()"
   ]
  },
  {
   "cell_type": "code",
   "execution_count": 18,
   "metadata": {},
   "outputs": [
    {
     "data": {
      "text/plain": [
       "1.928416810500754"
      ]
     },
     "execution_count": 18,
     "metadata": {},
     "output_type": "execute_result"
    }
   ],
   "source": [
    "res = res[res['Predicted_hourly_unit_rate']>0]\n",
    "val = np.sum(np.multiply(res.Predicted_hourly_unit_rate,res.Fraction_of_hour))\n",
    "val"
   ]
  },
  {
   "cell_type": "code",
   "execution_count": null,
   "metadata": {},
   "outputs": [],
   "source": []
  },
  {
   "cell_type": "code",
   "execution_count": null,
   "metadata": {},
   "outputs": [],
   "source": []
  },
  {
   "cell_type": "code",
   "execution_count": null,
   "metadata": {},
   "outputs": [],
   "source": []
  }
 ],
 "metadata": {
  "kernelspec": {
   "display_name": "Python 3 (ipykernel)",
   "language": "python",
   "name": "python3"
  },
  "language_info": {
   "codemirror_mode": {
    "name": "ipython",
    "version": 3
   },
   "file_extension": ".py",
   "mimetype": "text/x-python",
   "name": "python",
   "nbconvert_exporter": "python",
   "pygments_lexer": "ipython3",
   "version": "3.9.13"
  }
 },
 "nbformat": 4,
 "nbformat_minor": 4
}
